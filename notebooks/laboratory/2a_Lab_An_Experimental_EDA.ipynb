{
  "nbformat": 4,
  "nbformat_minor": 0,
  "metadata": {
    "colab": {
      "name": "2a_Lab_An_Experimental_EDA.ipynb",
      "provenance": [],
      "collapsed_sections": [],
      "toc_visible": true,
      "include_colab_link": true
    },
    "kernelspec": {
      "name": "python3",
      "display_name": "Python 3"
    },
    "accelerator": "GPU"
  },
  "cells": [
    {
      "cell_type": "markdown",
      "metadata": {
        "id": "view-in-github",
        "colab_type": "text"
      },
      "source": [
        "<a href=\"https://colab.research.google.com/github/claudio1975/SDS2020/blob/master/notebooks/laboratory/2a_Lab_An_Experimental_EDA.ipynb\" target=\"_parent\"><img src=\"https://colab.research.google.com/assets/colab-badge.svg\" alt=\"Open In Colab\"/></a>"
      ]
    },
    {
      "cell_type": "markdown",
      "metadata": {
        "id": "HlcrvwrX70Uv",
        "colab_type": "text"
      },
      "source": [
        "# **An Experimental Exploratory Data Analysis for a Classification Task step 2**\n",
        "\n",
        "### ***From Visualization to Statistical Analysis***\n",
        "\n",
        "### ***From Feature Engineering to Feature Selection***\n",
        "\n",
        "### ***From the Best Model Selection to Interpretability***\n",
        "\n"
      ]
    },
    {
      "cell_type": "markdown",
      "metadata": {
        "id": "vngHrhnzA7qr",
        "colab_type": "text"
      },
      "source": [
        "To start the exploration set up the environment with libraries, upload the data set (it's stored in a github repository) and split it into target variable and features variables. No more set up is required using Google Colab. Look at the guidelines: https://colab.research.google.com/notebooks/welcome.ipynb"
      ]
    },
    {
      "cell_type": "markdown",
      "metadata": {
        "id": "E2o9mujoz5by",
        "colab_type": "text"
      },
      "source": [
        "#### **Contents**"
      ]
    },
    {
      "cell_type": "markdown",
      "metadata": {
        "id": "LRwDUZ019MxF",
        "colab_type": "text"
      },
      "source": [
        "The goal of this challenge, launched by CrowdAnalytix, is to develop a model to predict whether a mortgage will be funded or not based on certain factors in a customer’s application data. \n",
        "The evaluation metric used is the F1 score.\n",
        "The data set is made up by 45.642 observations with predictor variables (21 features) and the target variable. It's a classification task with the goal to predict the 'Result' target variable for every row (Funded, Not Funded). Look at the competition: https://www.crowdanalytix.com/contests/propensity-to-fund-mortgages\n"
      ]
    },
    {
      "cell_type": "markdown",
      "metadata": {
        "id": "Z9DkyQZ2Ls-4",
        "colab_type": "text"
      },
      "source": [
        "### **Exploratory Data Analysis (EDA) Pipeline**"
      ]
    },
    {
      "cell_type": "markdown",
      "metadata": {
        "id": "ZVQahUb-8995",
        "colab_type": "text"
      },
      "source": [
        "![](http://www.theleader.info/wp-content/uploads/2017/07/Mortgage-rates.jpg)"
      ]
    },
    {
      "cell_type": "markdown",
      "metadata": {
        "id": "Hs9lEhRM0Mne",
        "colab_type": "text"
      },
      "source": [
        "# Prepare Workspace"
      ]
    },
    {
      "cell_type": "markdown",
      "metadata": {
        "id": "zJlI9RQG-A8w",
        "colab_type": "text"
      },
      "source": [
        "#####- Upload libraries"
      ]
    },
    {
      "cell_type": "code",
      "metadata": {
        "id": "XQysnLU9RUKI",
        "colab_type": "code",
        "outputId": "03ab60bf-a2ab-46df-be7f-0a6f37518e36",
        "colab": {
          "base_uri": "https://localhost:8080/",
          "height": 1000
        }
      },
      "source": [
        "# Upload libraries\n",
        "\n",
        "# to handle data set\n",
        "import pandas as pd\n",
        "import numpy as np\n",
        "\n",
        "# to plot\n",
        "%matplotlib inline\n",
        "import matplotlib.pyplot as plt\n",
        "import seaborn as sns\n",
        "from sklearn.metrics import plot_confusion_matrix\n",
        "\n",
        "# statistics\n",
        "import statistics\n",
        "import scipy.stats as stats\n",
        "import statsmodels.api as sm\n",
        "from statsmodels.formula.api import ols\n",
        "from scipy.stats import chi2_contingency\n",
        "from scipy.stats import kurtosis \n",
        "from scipy.stats import skew\n",
        "from statistics import stdev \n",
        "\n",
        "# to split data set \n",
        "from sklearn.model_selection import train_test_split\n",
        "\n",
        "# standardization\n",
        "from sklearn.preprocessing import StandardScaler\n",
        "\n",
        "# to build models\n",
        "from sklearn.model_selection import StratifiedKFold\n",
        "from sklearn.model_selection import GridSearchCV\n",
        "from sklearn.ensemble import RandomForestClassifier\n",
        "from sklearn.ensemble import BaggingClassifier\n",
        "from sklearn.ensemble import AdaBoostClassifier\n",
        "from sklearn.ensemble import GradientBoostingClassifier\n",
        "from sklearn.linear_model import LogisticRegression\n",
        "from sklearn.neural_network import MLPClassifier\n",
        "\n",
        "# to evaluate models\n",
        "from sklearn.metrics import f1_score\n",
        "\n",
        "# to handle imbalanced data set\n",
        "from imblearn.over_sampling import RandomOverSampler\n",
        "from collections import Counter\n",
        "\n",
        "# feature engineering\n",
        "!pip install feature-engine\n",
        "import feature_engine\n",
        "from sklearn.preprocessing import KBinsDiscretizer\n",
        "\n",
        "# feature importance\n",
        "from sklearn.tree import DecisionTreeClassifier\n",
        "!pip install eli5 \n",
        "import eli5\n",
        "from eli5.sklearn import PermutationImportance\n",
        "!pip install shap\n",
        "import shap\n",
        "import eli5\n",
        "from eli5.sklearn import PermutationImportance\n",
        "\n",
        "import warnings\n",
        "warnings.filterwarnings('ignore')"
      ],
      "execution_count": 0,
      "outputs": [
        {
          "output_type": "stream",
          "text": [
            "/usr/local/lib/python3.6/dist-packages/statsmodels/tools/_testing.py:19: FutureWarning: pandas.util.testing is deprecated. Use the functions in the public API at pandas.testing instead.\n",
            "  import pandas.util.testing as tm\n",
            "/usr/local/lib/python3.6/dist-packages/sklearn/externals/six.py:31: FutureWarning: The module is deprecated in version 0.21 and will be removed in version 0.23 since we've dropped support for Python 2.7. Please rely on the official version of six (https://pypi.org/project/six/).\n",
            "  \"(https://pypi.org/project/six/).\", FutureWarning)\n",
            "/usr/local/lib/python3.6/dist-packages/sklearn/utils/deprecation.py:144: FutureWarning: The sklearn.neighbors.base module is  deprecated in version 0.22 and will be removed in version 0.24. The corresponding classes / functions should instead be imported from sklearn.neighbors. Anything that cannot be imported from sklearn.neighbors is now part of the private API.\n",
            "  warnings.warn(message, FutureWarning)\n"
          ],
          "name": "stderr"
        },
        {
          "output_type": "stream",
          "text": [
            "Collecting feature-engine\n",
            "  Downloading https://files.pythonhosted.org/packages/46/c9/c6db258859c721ef48f8293bdbe38ad3e367111e499099f01f3be3ee7634/feature_engine-0.4.3-py2.py3-none-any.whl\n",
            "Requirement already satisfied: numpy<1.19.0,>=1.18.2 in /usr/local/lib/python3.6/dist-packages (from feature-engine) (1.18.4)\n",
            "Collecting statsmodels<0.12.0,>=0.11.1\n",
            "\u001b[?25l  Downloading https://files.pythonhosted.org/packages/cb/83/540fd83238a18abe6c2d280fa8e489ac5fcefa1f370f0ca1acd16ae1b860/statsmodels-0.11.1-cp36-cp36m-manylinux1_x86_64.whl (8.7MB)\n",
            "\u001b[K     |████████████████████████████████| 8.7MB 8.8MB/s \n",
            "\u001b[?25hRequirement already satisfied: pandas<1.1.0,>=1.0.3 in /usr/local/lib/python3.6/dist-packages (from feature-engine) (1.0.3)\n",
            "Requirement already satisfied: scikit-learn<0.23.0,>=0.22.2 in /usr/local/lib/python3.6/dist-packages (from feature-engine) (0.22.2.post1)\n",
            "Requirement already satisfied: scipy<1.5.0,>=1.4.1 in /usr/local/lib/python3.6/dist-packages (from feature-engine) (1.4.1)\n",
            "Requirement already satisfied: patsy>=0.5 in /usr/local/lib/python3.6/dist-packages (from statsmodels<0.12.0,>=0.11.1->feature-engine) (0.5.1)\n",
            "Requirement already satisfied: python-dateutil>=2.6.1 in /usr/local/lib/python3.6/dist-packages (from pandas<1.1.0,>=1.0.3->feature-engine) (2.8.1)\n",
            "Requirement already satisfied: pytz>=2017.2 in /usr/local/lib/python3.6/dist-packages (from pandas<1.1.0,>=1.0.3->feature-engine) (2018.9)\n",
            "Requirement already satisfied: joblib>=0.11 in /usr/local/lib/python3.6/dist-packages (from scikit-learn<0.23.0,>=0.22.2->feature-engine) (0.15.1)\n",
            "Requirement already satisfied: six in /usr/local/lib/python3.6/dist-packages (from patsy>=0.5->statsmodels<0.12.0,>=0.11.1->feature-engine) (1.12.0)\n",
            "Installing collected packages: statsmodels, feature-engine\n",
            "  Found existing installation: statsmodels 0.10.2\n",
            "    Uninstalling statsmodels-0.10.2:\n",
            "      Successfully uninstalled statsmodels-0.10.2\n",
            "Successfully installed feature-engine-0.4.3 statsmodels-0.11.1\n"
          ],
          "name": "stdout"
        },
        {
          "output_type": "display_data",
          "data": {
            "application/vnd.colab-display-data+json": {
              "pip_warning": {
                "packages": [
                  "statsmodels"
                ]
              }
            }
          },
          "metadata": {
            "tags": []
          }
        },
        {
          "output_type": "stream",
          "text": [
            "Collecting eli5\n",
            "\u001b[?25l  Downloading https://files.pythonhosted.org/packages/97/2f/c85c7d8f8548e460829971785347e14e45fa5c6617da374711dec8cb38cc/eli5-0.10.1-py2.py3-none-any.whl (105kB)\n",
            "\r\u001b[K     |███                             | 10kB 29.7MB/s eta 0:00:01\r\u001b[K     |██████▏                         | 20kB 2.9MB/s eta 0:00:01\r\u001b[K     |█████████▎                      | 30kB 3.9MB/s eta 0:00:01\r\u001b[K     |████████████▍                   | 40kB 4.3MB/s eta 0:00:01\r\u001b[K     |███████████████▌                | 51kB 3.4MB/s eta 0:00:01\r\u001b[K     |██████████████████▋             | 61kB 3.9MB/s eta 0:00:01\r\u001b[K     |█████████████████████▊          | 71kB 4.1MB/s eta 0:00:01\r\u001b[K     |████████████████████████▊       | 81kB 4.5MB/s eta 0:00:01\r\u001b[K     |███████████████████████████▉    | 92kB 4.8MB/s eta 0:00:01\r\u001b[K     |███████████████████████████████ | 102kB 4.6MB/s eta 0:00:01\r\u001b[K     |████████████████████████████████| 112kB 4.6MB/s \n",
            "\u001b[?25hRequirement already satisfied: scikit-learn>=0.18 in /usr/local/lib/python3.6/dist-packages (from eli5) (0.22.2.post1)\n",
            "Requirement already satisfied: numpy>=1.9.0 in /usr/local/lib/python3.6/dist-packages (from eli5) (1.18.4)\n",
            "Requirement already satisfied: jinja2 in /usr/local/lib/python3.6/dist-packages (from eli5) (2.11.2)\n",
            "Requirement already satisfied: graphviz in /usr/local/lib/python3.6/dist-packages (from eli5) (0.10.1)\n",
            "Requirement already satisfied: attrs>16.0.0 in /usr/local/lib/python3.6/dist-packages (from eli5) (19.3.0)\n",
            "Requirement already satisfied: scipy in /usr/local/lib/python3.6/dist-packages (from eli5) (1.4.1)\n",
            "Requirement already satisfied: six in /usr/local/lib/python3.6/dist-packages (from eli5) (1.12.0)\n",
            "Requirement already satisfied: tabulate>=0.7.7 in /usr/local/lib/python3.6/dist-packages (from eli5) (0.8.7)\n",
            "Requirement already satisfied: joblib>=0.11 in /usr/local/lib/python3.6/dist-packages (from scikit-learn>=0.18->eli5) (0.15.1)\n",
            "Requirement already satisfied: MarkupSafe>=0.23 in /usr/local/lib/python3.6/dist-packages (from jinja2->eli5) (1.1.1)\n",
            "Installing collected packages: eli5\n",
            "Successfully installed eli5-0.10.1\n"
          ],
          "name": "stdout"
        },
        {
          "output_type": "stream",
          "text": [
            "/usr/local/lib/python3.6/dist-packages/sklearn/utils/deprecation.py:144: FutureWarning: The sklearn.metrics.scorer module is  deprecated in version 0.22 and will be removed in version 0.24. The corresponding classes / functions should instead be imported from sklearn.metrics. Anything that cannot be imported from sklearn.metrics is now part of the private API.\n",
            "  warnings.warn(message, FutureWarning)\n",
            "/usr/local/lib/python3.6/dist-packages/sklearn/utils/deprecation.py:144: FutureWarning: The sklearn.feature_selection.base module is  deprecated in version 0.22 and will be removed in version 0.24. The corresponding classes / functions should instead be imported from sklearn.feature_selection. Anything that cannot be imported from sklearn.feature_selection is now part of the private API.\n",
            "  warnings.warn(message, FutureWarning)\n",
            "Using TensorFlow backend.\n"
          ],
          "name": "stderr"
        },
        {
          "output_type": "stream",
          "text": [
            "Collecting shap\n",
            "\u001b[?25l  Downloading https://files.pythonhosted.org/packages/a8/77/b504e43e21a2ba543a1ac4696718beb500cfa708af2fb57cb54ce299045c/shap-0.35.0.tar.gz (273kB)\n",
            "\r\u001b[K     |█▏                              | 10kB 30.2MB/s eta 0:00:01\r\u001b[K     |██▍                             | 20kB 3.0MB/s eta 0:00:01\r\u001b[K     |███▋                            | 30kB 4.0MB/s eta 0:00:01\r\u001b[K     |████▉                           | 40kB 4.4MB/s eta 0:00:01\r\u001b[K     |██████                          | 51kB 3.6MB/s eta 0:00:01\r\u001b[K     |███████▏                        | 61kB 4.0MB/s eta 0:00:01\r\u001b[K     |████████▍                       | 71kB 4.4MB/s eta 0:00:01\r\u001b[K     |█████████▋                      | 81kB 4.8MB/s eta 0:00:01\r\u001b[K     |██████████▉                     | 92kB 5.1MB/s eta 0:00:01\r\u001b[K     |████████████                    | 102kB 4.9MB/s eta 0:00:01\r\u001b[K     |█████████████▏                  | 112kB 4.9MB/s eta 0:00:01\r\u001b[K     |██████████████▍                 | 122kB 4.9MB/s eta 0:00:01\r\u001b[K     |███████████████▋                | 133kB 4.9MB/s eta 0:00:01\r\u001b[K     |████████████████▉               | 143kB 4.9MB/s eta 0:00:01\r\u001b[K     |██████████████████              | 153kB 4.9MB/s eta 0:00:01\r\u001b[K     |███████████████████▏            | 163kB 4.9MB/s eta 0:00:01\r\u001b[K     |████████████████████▍           | 174kB 4.9MB/s eta 0:00:01\r\u001b[K     |█████████████████████▋          | 184kB 4.9MB/s eta 0:00:01\r\u001b[K     |██████████████████████▉         | 194kB 4.9MB/s eta 0:00:01\r\u001b[K     |████████████████████████        | 204kB 4.9MB/s eta 0:00:01\r\u001b[K     |█████████████████████████▏      | 215kB 4.9MB/s eta 0:00:01\r\u001b[K     |██████████████████████████▍     | 225kB 4.9MB/s eta 0:00:01\r\u001b[K     |███████████████████████████▋    | 235kB 4.9MB/s eta 0:00:01\r\u001b[K     |████████████████████████████▉   | 245kB 4.9MB/s eta 0:00:01\r\u001b[K     |██████████████████████████████  | 256kB 4.9MB/s eta 0:00:01\r\u001b[K     |███████████████████████████████▏| 266kB 4.9MB/s eta 0:00:01\r\u001b[K     |████████████████████████████████| 276kB 4.9MB/s \n",
            "\u001b[?25hRequirement already satisfied: numpy in /usr/local/lib/python3.6/dist-packages (from shap) (1.18.4)\n",
            "Requirement already satisfied: scipy in /usr/local/lib/python3.6/dist-packages (from shap) (1.4.1)\n",
            "Requirement already satisfied: scikit-learn in /usr/local/lib/python3.6/dist-packages (from shap) (0.22.2.post1)\n",
            "Requirement already satisfied: pandas in /usr/local/lib/python3.6/dist-packages (from shap) (1.0.3)\n",
            "Requirement already satisfied: tqdm>4.25.0 in /usr/local/lib/python3.6/dist-packages (from shap) (4.41.1)\n",
            "Requirement already satisfied: joblib>=0.11 in /usr/local/lib/python3.6/dist-packages (from scikit-learn->shap) (0.15.1)\n",
            "Requirement already satisfied: pytz>=2017.2 in /usr/local/lib/python3.6/dist-packages (from pandas->shap) (2018.9)\n",
            "Requirement already satisfied: python-dateutil>=2.6.1 in /usr/local/lib/python3.6/dist-packages (from pandas->shap) (2.8.1)\n",
            "Requirement already satisfied: six>=1.5 in /usr/local/lib/python3.6/dist-packages (from python-dateutil>=2.6.1->pandas->shap) (1.12.0)\n",
            "Building wheels for collected packages: shap\n",
            "  Building wheel for shap (setup.py) ... \u001b[?25l\u001b[?25hdone\n",
            "  Created wheel for shap: filename=shap-0.35.0-cp36-cp36m-linux_x86_64.whl size=394120 sha256=c2cf5d57b553480c35693696e097a110d10c5f8fb00f721d6c34915355e9b24c\n",
            "  Stored in directory: /root/.cache/pip/wheels/e7/f7/0f/b57055080cf8894906b3bd3616d2fc2bfd0b12d5161bcb24ac\n",
            "Successfully built shap\n",
            "Installing collected packages: shap\n",
            "Successfully installed shap-0.35.0\n"
          ],
          "name": "stdout"
        }
      ]
    },
    {
      "cell_type": "markdown",
      "metadata": {
        "id": "ZLFLLtY2-I06",
        "colab_type": "text"
      },
      "source": [
        "#####- Upload data set"
      ]
    },
    {
      "cell_type": "code",
      "metadata": {
        "id": "pgQMY8HqDrGQ",
        "colab_type": "code",
        "colab": {}
      },
      "source": [
        "# Upload dataset\n",
        "url = 'https://raw.githubusercontent.com/claudio1975/SDS2020/master/data/CAX_train_small.csv'\n",
        "df = pd.read_csv(url)"
      ],
      "execution_count": 0,
      "outputs": []
    },
    {
      "cell_type": "markdown",
      "metadata": {
        "id": "Q2_fumrJ-NCl",
        "colab_type": "text"
      },
      "source": [
        "#####- Split data set"
      ]
    },
    {
      "cell_type": "code",
      "metadata": {
        "id": "wwPBNz5pDvDZ",
        "colab_type": "code",
        "colab": {}
      },
      "source": [
        "# Split data set between target and features\n",
        "X_full = df\n",
        "y = X_full.RESULT\n",
        "X_full = X_full.drop(['RESULT'], axis=1)\n"
      ],
      "execution_count": 0,
      "outputs": []
    },
    {
      "cell_type": "markdown",
      "metadata": {
        "id": "cIEjdLM1BGti",
        "colab_type": "text"
      },
      "source": [
        "# Summarize Data"
      ]
    },
    {
      "cell_type": "code",
      "metadata": {
        "id": "hvXmGWII7I_8",
        "colab_type": "code",
        "outputId": "b201ab88-21dd-43f8-a5bd-88563e3034e2",
        "colab": {
          "base_uri": "https://localhost:8080/",
          "height": 510
        }
      },
      "source": [
        "# Look at dimension of data set and types of each attribute\n",
        "df.info()"
      ],
      "execution_count": 0,
      "outputs": [
        {
          "output_type": "stream",
          "text": [
            "<class 'pandas.core.frame.DataFrame'>\n",
            "RangeIndex: 4564 entries, 0 to 4563\n",
            "Data columns (total 22 columns):\n",
            " #   Column             Non-Null Count  Dtype  \n",
            "---  ------             --------------  -----  \n",
            " 0   Unique_ID          4564 non-null   object \n",
            " 1   MORTGAGE NUMBER    4564 non-null   int64  \n",
            " 2   PROPERTY VALUE     4564 non-null   int64  \n",
            " 3   MORTGAGE PAYMENT   4564 non-null   int64  \n",
            " 4   GDS                4564 non-null   float64\n",
            " 5   LTV                4564 non-null   float64\n",
            " 6   TDS                4564 non-null   float64\n",
            " 7   AMORTIZATION       4564 non-null   int64  \n",
            " 8   MORTGAGE AMOUNT    4564 non-null   float64\n",
            " 9   RATE               4564 non-null   float64\n",
            " 10  MORTGAGE PURPOSE   4564 non-null   object \n",
            " 11  PAYMENT FREQUENCY  4564 non-null   object \n",
            " 12  PROPERTY TYPE      4564 non-null   object \n",
            " 13  TERM               4564 non-null   int64  \n",
            " 14  FSA                4564 non-null   object \n",
            " 15  AGE RANGE          4564 non-null   object \n",
            " 16  GENDER             4564 non-null   object \n",
            " 17  INCOME             4564 non-null   int64  \n",
            " 18  INCOME TYPE        4564 non-null   int64  \n",
            " 19  NAICS CODE         4564 non-null   object \n",
            " 20  CREDIT SCORE       4564 non-null   int64  \n",
            " 21  RESULT             4564 non-null   object \n",
            "dtypes: float64(5), int64(8), object(9)\n",
            "memory usage: 784.6+ KB\n"
          ],
          "name": "stdout"
        }
      ]
    },
    {
      "cell_type": "code",
      "metadata": {
        "id": "uDB8l79ZLldm",
        "colab_type": "code",
        "outputId": "9ecc15d9-f424-4e91-b0e0-4d4277935e77",
        "colab": {
          "base_uri": "https://localhost:8080/",
          "height": 444
        }
      },
      "source": [
        "# Summarize attribute distributions of the data frame\n",
        "df.describe(include='all')"
      ],
      "execution_count": 0,
      "outputs": [
        {
          "output_type": "execute_result",
          "data": {
            "text/html": [
              "<div>\n",
              "<style scoped>\n",
              "    .dataframe tbody tr th:only-of-type {\n",
              "        vertical-align: middle;\n",
              "    }\n",
              "\n",
              "    .dataframe tbody tr th {\n",
              "        vertical-align: top;\n",
              "    }\n",
              "\n",
              "    .dataframe thead th {\n",
              "        text-align: right;\n",
              "    }\n",
              "</style>\n",
              "<table border=\"1\" class=\"dataframe\">\n",
              "  <thead>\n",
              "    <tr style=\"text-align: right;\">\n",
              "      <th></th>\n",
              "      <th>Unique_ID</th>\n",
              "      <th>MORTGAGE NUMBER</th>\n",
              "      <th>PROPERTY VALUE</th>\n",
              "      <th>MORTGAGE PAYMENT</th>\n",
              "      <th>GDS</th>\n",
              "      <th>LTV</th>\n",
              "      <th>TDS</th>\n",
              "      <th>AMORTIZATION</th>\n",
              "      <th>MORTGAGE AMOUNT</th>\n",
              "      <th>RATE</th>\n",
              "      <th>MORTGAGE PURPOSE</th>\n",
              "      <th>PAYMENT FREQUENCY</th>\n",
              "      <th>PROPERTY TYPE</th>\n",
              "      <th>TERM</th>\n",
              "      <th>FSA</th>\n",
              "      <th>AGE RANGE</th>\n",
              "      <th>GENDER</th>\n",
              "      <th>INCOME</th>\n",
              "      <th>INCOME TYPE</th>\n",
              "      <th>NAICS CODE</th>\n",
              "      <th>CREDIT SCORE</th>\n",
              "      <th>RESULT</th>\n",
              "    </tr>\n",
              "  </thead>\n",
              "  <tbody>\n",
              "    <tr>\n",
              "      <th>count</th>\n",
              "      <td>4564</td>\n",
              "      <td>4564.000000</td>\n",
              "      <td>4.564000e+03</td>\n",
              "      <td>4564.000000</td>\n",
              "      <td>4564.000000</td>\n",
              "      <td>4564.000000</td>\n",
              "      <td>4564.000000</td>\n",
              "      <td>4564.000000</td>\n",
              "      <td>4.564000e+03</td>\n",
              "      <td>4564.000000</td>\n",
              "      <td>4564</td>\n",
              "      <td>4564</td>\n",
              "      <td>4564</td>\n",
              "      <td>4564.000000</td>\n",
              "      <td>4564</td>\n",
              "      <td>4564</td>\n",
              "      <td>4564</td>\n",
              "      <td>4.564000e+03</td>\n",
              "      <td>4564.000000</td>\n",
              "      <td>4564</td>\n",
              "      <td>4564.000000</td>\n",
              "      <td>4564</td>\n",
              "    </tr>\n",
              "    <tr>\n",
              "      <th>unique</th>\n",
              "      <td>4564</td>\n",
              "      <td>NaN</td>\n",
              "      <td>NaN</td>\n",
              "      <td>NaN</td>\n",
              "      <td>NaN</td>\n",
              "      <td>NaN</td>\n",
              "      <td>NaN</td>\n",
              "      <td>NaN</td>\n",
              "      <td>NaN</td>\n",
              "      <td>NaN</td>\n",
              "      <td>2</td>\n",
              "      <td>3</td>\n",
              "      <td>8</td>\n",
              "      <td>NaN</td>\n",
              "      <td>753</td>\n",
              "      <td>11</td>\n",
              "      <td>3</td>\n",
              "      <td>NaN</td>\n",
              "      <td>NaN</td>\n",
              "      <td>19</td>\n",
              "      <td>NaN</td>\n",
              "      <td>2</td>\n",
              "    </tr>\n",
              "    <tr>\n",
              "      <th>top</th>\n",
              "      <td>CAX_Train_8070</td>\n",
              "      <td>NaN</td>\n",
              "      <td>NaN</td>\n",
              "      <td>NaN</td>\n",
              "      <td>NaN</td>\n",
              "      <td>NaN</td>\n",
              "      <td>NaN</td>\n",
              "      <td>NaN</td>\n",
              "      <td>NaN</td>\n",
              "      <td>NaN</td>\n",
              "      <td>Purchase</td>\n",
              "      <td>Monthly</td>\n",
              "      <td>Single Detached</td>\n",
              "      <td>NaN</td>\n",
              "      <td>L7A</td>\n",
              "      <td>45-49</td>\n",
              "      <td>Male</td>\n",
              "      <td>NaN</td>\n",
              "      <td>NaN</td>\n",
              "      <td>56</td>\n",
              "      <td>NaN</td>\n",
              "      <td>FUNDED</td>\n",
              "    </tr>\n",
              "    <tr>\n",
              "      <th>freq</th>\n",
              "      <td>1</td>\n",
              "      <td>NaN</td>\n",
              "      <td>NaN</td>\n",
              "      <td>NaN</td>\n",
              "      <td>NaN</td>\n",
              "      <td>NaN</td>\n",
              "      <td>NaN</td>\n",
              "      <td>NaN</td>\n",
              "      <td>NaN</td>\n",
              "      <td>NaN</td>\n",
              "      <td>2452</td>\n",
              "      <td>4276</td>\n",
              "      <td>2893</td>\n",
              "      <td>NaN</td>\n",
              "      <td>90</td>\n",
              "      <td>762</td>\n",
              "      <td>2419</td>\n",
              "      <td>NaN</td>\n",
              "      <td>NaN</td>\n",
              "      <td>1085</td>\n",
              "      <td>NaN</td>\n",
              "      <td>3531</td>\n",
              "    </tr>\n",
              "    <tr>\n",
              "      <th>mean</th>\n",
              "      <td>NaN</td>\n",
              "      <td>22771.992989</td>\n",
              "      <td>5.768256e+05</td>\n",
              "      <td>2352.064636</td>\n",
              "      <td>28.357263</td>\n",
              "      <td>70.482048</td>\n",
              "      <td>39.624248</td>\n",
              "      <td>354.991236</td>\n",
              "      <td>4.188461e+05</td>\n",
              "      <td>4.661700</td>\n",
              "      <td>NaN</td>\n",
              "      <td>NaN</td>\n",
              "      <td>NaN</td>\n",
              "      <td>15.240578</td>\n",
              "      <td>NaN</td>\n",
              "      <td>NaN</td>\n",
              "      <td>NaN</td>\n",
              "      <td>1.228709e+05</td>\n",
              "      <td>5.379492</td>\n",
              "      <td>NaN</td>\n",
              "      <td>664.525855</td>\n",
              "      <td>NaN</td>\n",
              "    </tr>\n",
              "    <tr>\n",
              "      <th>std</th>\n",
              "      <td>NaN</td>\n",
              "      <td>13057.493643</td>\n",
              "      <td>4.275116e+05</td>\n",
              "      <td>1582.423513</td>\n",
              "      <td>24.532723</td>\n",
              "      <td>11.743831</td>\n",
              "      <td>53.837568</td>\n",
              "      <td>18.401491</td>\n",
              "      <td>2.864676e+05</td>\n",
              "      <td>0.652637</td>\n",
              "      <td>NaN</td>\n",
              "      <td>NaN</td>\n",
              "      <td>NaN</td>\n",
              "      <td>7.372673</td>\n",
              "      <td>NaN</td>\n",
              "      <td>NaN</td>\n",
              "      <td>NaN</td>\n",
              "      <td>1.006197e+05</td>\n",
              "      <td>3.301316</td>\n",
              "      <td>NaN</td>\n",
              "      <td>128.579907</td>\n",
              "      <td>NaN</td>\n",
              "    </tr>\n",
              "    <tr>\n",
              "      <th>min</th>\n",
              "      <td>NaN</td>\n",
              "      <td>8.000000</td>\n",
              "      <td>6.000000e+04</td>\n",
              "      <td>205.000000</td>\n",
              "      <td>-27.190000</td>\n",
              "      <td>8.080000</td>\n",
              "      <td>-5.870000</td>\n",
              "      <td>120.000000</td>\n",
              "      <td>3.280000e+04</td>\n",
              "      <td>3.000000</td>\n",
              "      <td>NaN</td>\n",
              "      <td>NaN</td>\n",
              "      <td>NaN</td>\n",
              "      <td>6.000000</td>\n",
              "      <td>NaN</td>\n",
              "      <td>NaN</td>\n",
              "      <td>NaN</td>\n",
              "      <td>1.000000e+03</td>\n",
              "      <td>-1.000000</td>\n",
              "      <td>NaN</td>\n",
              "      <td>0.000000</td>\n",
              "      <td>NaN</td>\n",
              "    </tr>\n",
              "    <tr>\n",
              "      <th>25%</th>\n",
              "      <td>NaN</td>\n",
              "      <td>11606.750000</td>\n",
              "      <td>3.367500e+05</td>\n",
              "      <td>1400.000000</td>\n",
              "      <td>19.507500</td>\n",
              "      <td>65.000000</td>\n",
              "      <td>32.847500</td>\n",
              "      <td>360.000000</td>\n",
              "      <td>2.435471e+05</td>\n",
              "      <td>4.250000</td>\n",
              "      <td>NaN</td>\n",
              "      <td>NaN</td>\n",
              "      <td>NaN</td>\n",
              "      <td>12.000000</td>\n",
              "      <td>NaN</td>\n",
              "      <td>NaN</td>\n",
              "      <td>NaN</td>\n",
              "      <td>6.900000e+04</td>\n",
              "      <td>2.000000</td>\n",
              "      <td>NaN</td>\n",
              "      <td>624.000000</td>\n",
              "      <td>NaN</td>\n",
              "    </tr>\n",
              "    <tr>\n",
              "      <th>50%</th>\n",
              "      <td>NaN</td>\n",
              "      <td>22758.500000</td>\n",
              "      <td>4.700000e+05</td>\n",
              "      <td>2009.000000</td>\n",
              "      <td>29.250000</td>\n",
              "      <td>75.000000</td>\n",
              "      <td>38.255000</td>\n",
              "      <td>360.000000</td>\n",
              "      <td>3.500000e+05</td>\n",
              "      <td>4.500000</td>\n",
              "      <td>NaN</td>\n",
              "      <td>NaN</td>\n",
              "      <td>NaN</td>\n",
              "      <td>12.000000</td>\n",
              "      <td>NaN</td>\n",
              "      <td>NaN</td>\n",
              "      <td>NaN</td>\n",
              "      <td>9.800000e+04</td>\n",
              "      <td>7.000000</td>\n",
              "      <td>NaN</td>\n",
              "      <td>678.000000</td>\n",
              "      <td>NaN</td>\n",
              "    </tr>\n",
              "    <tr>\n",
              "      <th>75%</th>\n",
              "      <td>NaN</td>\n",
              "      <td>33747.500000</td>\n",
              "      <td>6.800000e+05</td>\n",
              "      <td>2822.000000</td>\n",
              "      <td>35.992500</td>\n",
              "      <td>80.000000</td>\n",
              "      <td>42.260000</td>\n",
              "      <td>360.000000</td>\n",
              "      <td>5.056788e+05</td>\n",
              "      <td>5.000000</td>\n",
              "      <td>NaN</td>\n",
              "      <td>NaN</td>\n",
              "      <td>NaN</td>\n",
              "      <td>12.000000</td>\n",
              "      <td>NaN</td>\n",
              "      <td>NaN</td>\n",
              "      <td>NaN</td>\n",
              "      <td>1.450000e+05</td>\n",
              "      <td>8.000000</td>\n",
              "      <td>NaN</td>\n",
              "      <td>736.000000</td>\n",
              "      <td>NaN</td>\n",
              "    </tr>\n",
              "    <tr>\n",
              "      <th>max</th>\n",
              "      <td>NaN</td>\n",
              "      <td>45618.000000</td>\n",
              "      <td>7.250000e+06</td>\n",
              "      <td>22881.000000</td>\n",
              "      <td>1100.060000</td>\n",
              "      <td>80.000000</td>\n",
              "      <td>3254.020000</td>\n",
              "      <td>360.000000</td>\n",
              "      <td>3.765000e+06</td>\n",
              "      <td>10.000000</td>\n",
              "      <td>NaN</td>\n",
              "      <td>NaN</td>\n",
              "      <td>NaN</td>\n",
              "      <td>60.000000</td>\n",
              "      <td>NaN</td>\n",
              "      <td>NaN</td>\n",
              "      <td>NaN</td>\n",
              "      <td>1.600000e+06</td>\n",
              "      <td>20.000000</td>\n",
              "      <td>NaN</td>\n",
              "      <td>897.000000</td>\n",
              "      <td>NaN</td>\n",
              "    </tr>\n",
              "  </tbody>\n",
              "</table>\n",
              "</div>"
            ],
            "text/plain": [
              "             Unique_ID  MORTGAGE NUMBER  ...  CREDIT SCORE  RESULT\n",
              "count             4564      4564.000000  ...   4564.000000    4564\n",
              "unique            4564              NaN  ...           NaN       2\n",
              "top     CAX_Train_8070              NaN  ...           NaN  FUNDED\n",
              "freq                 1              NaN  ...           NaN    3531\n",
              "mean               NaN     22771.992989  ...    664.525855     NaN\n",
              "std                NaN     13057.493643  ...    128.579907     NaN\n",
              "min                NaN         8.000000  ...      0.000000     NaN\n",
              "25%                NaN     11606.750000  ...    624.000000     NaN\n",
              "50%                NaN     22758.500000  ...    678.000000     NaN\n",
              "75%                NaN     33747.500000  ...    736.000000     NaN\n",
              "max                NaN     45618.000000  ...    897.000000     NaN\n",
              "\n",
              "[11 rows x 22 columns]"
            ]
          },
          "metadata": {
            "tags": []
          },
          "execution_count": 5
        }
      ]
    },
    {
      "cell_type": "code",
      "metadata": {
        "id": "vl_waIVssaPb",
        "colab_type": "code",
        "outputId": "84672d6c-4158-42a4-e2c1-55244173fe4a",
        "colab": {
          "base_uri": "https://localhost:8080/",
          "height": 583
        }
      },
      "source": [
        "# Take a peek at the first rows of the data\n",
        "df.head(10)"
      ],
      "execution_count": 0,
      "outputs": [
        {
          "output_type": "execute_result",
          "data": {
            "text/html": [
              "<div>\n",
              "<style scoped>\n",
              "    .dataframe tbody tr th:only-of-type {\n",
              "        vertical-align: middle;\n",
              "    }\n",
              "\n",
              "    .dataframe tbody tr th {\n",
              "        vertical-align: top;\n",
              "    }\n",
              "\n",
              "    .dataframe thead th {\n",
              "        text-align: right;\n",
              "    }\n",
              "</style>\n",
              "<table border=\"1\" class=\"dataframe\">\n",
              "  <thead>\n",
              "    <tr style=\"text-align: right;\">\n",
              "      <th></th>\n",
              "      <th>Unique_ID</th>\n",
              "      <th>MORTGAGE NUMBER</th>\n",
              "      <th>PROPERTY VALUE</th>\n",
              "      <th>MORTGAGE PAYMENT</th>\n",
              "      <th>GDS</th>\n",
              "      <th>LTV</th>\n",
              "      <th>TDS</th>\n",
              "      <th>AMORTIZATION</th>\n",
              "      <th>MORTGAGE AMOUNT</th>\n",
              "      <th>RATE</th>\n",
              "      <th>MORTGAGE PURPOSE</th>\n",
              "      <th>PAYMENT FREQUENCY</th>\n",
              "      <th>PROPERTY TYPE</th>\n",
              "      <th>TERM</th>\n",
              "      <th>FSA</th>\n",
              "      <th>AGE RANGE</th>\n",
              "      <th>GENDER</th>\n",
              "      <th>INCOME</th>\n",
              "      <th>INCOME TYPE</th>\n",
              "      <th>NAICS CODE</th>\n",
              "      <th>CREDIT SCORE</th>\n",
              "      <th>RESULT</th>\n",
              "    </tr>\n",
              "  </thead>\n",
              "  <tbody>\n",
              "    <tr>\n",
              "      <th>0</th>\n",
              "      <td>CAX_Train_25108</td>\n",
              "      <td>25108</td>\n",
              "      <td>148000</td>\n",
              "      <td>768</td>\n",
              "      <td>31.95</td>\n",
              "      <td>65.00</td>\n",
              "      <td>56.78</td>\n",
              "      <td>360</td>\n",
              "      <td>130000.0</td>\n",
              "      <td>4.50</td>\n",
              "      <td>Refinance</td>\n",
              "      <td>Monthly</td>\n",
              "      <td>Townhouse Freehold</td>\n",
              "      <td>24</td>\n",
              "      <td>N2E</td>\n",
              "      <td>40-44</td>\n",
              "      <td>Female</td>\n",
              "      <td>39000</td>\n",
              "      <td>2</td>\n",
              "      <td>56</td>\n",
              "      <td>784</td>\n",
              "      <td>FUNDED</td>\n",
              "    </tr>\n",
              "    <tr>\n",
              "      <th>1</th>\n",
              "      <td>CAX_Train_35282</td>\n",
              "      <td>35282</td>\n",
              "      <td>580000</td>\n",
              "      <td>2819</td>\n",
              "      <td>5.37</td>\n",
              "      <td>75.36</td>\n",
              "      <td>37.74</td>\n",
              "      <td>360</td>\n",
              "      <td>520000.0</td>\n",
              "      <td>4.50</td>\n",
              "      <td>Refinance</td>\n",
              "      <td>Monthly</td>\n",
              "      <td>Semi-Detached</td>\n",
              "      <td>24</td>\n",
              "      <td>M3A</td>\n",
              "      <td>50-54</td>\n",
              "      <td>Female</td>\n",
              "      <td>176000</td>\n",
              "      <td>2</td>\n",
              "      <td>54</td>\n",
              "      <td>717</td>\n",
              "      <td>FUNDED</td>\n",
              "    </tr>\n",
              "    <tr>\n",
              "      <th>2</th>\n",
              "      <td>CAX_Train_15462</td>\n",
              "      <td>15462</td>\n",
              "      <td>450000</td>\n",
              "      <td>2891</td>\n",
              "      <td>28.53</td>\n",
              "      <td>64.35</td>\n",
              "      <td>28.53</td>\n",
              "      <td>360</td>\n",
              "      <td>575000.0</td>\n",
              "      <td>5.00</td>\n",
              "      <td>Refinance</td>\n",
              "      <td>Monthly</td>\n",
              "      <td>Single Detached</td>\n",
              "      <td>12</td>\n",
              "      <td>L3S</td>\n",
              "      <td>70 and over</td>\n",
              "      <td>Male</td>\n",
              "      <td>130000</td>\n",
              "      <td>8</td>\n",
              "      <td>72</td>\n",
              "      <td>0</td>\n",
              "      <td>FUNDED</td>\n",
              "    </tr>\n",
              "    <tr>\n",
              "      <th>3</th>\n",
              "      <td>CAX_Train_12736</td>\n",
              "      <td>12736</td>\n",
              "      <td>850000</td>\n",
              "      <td>3993</td>\n",
              "      <td>27.17</td>\n",
              "      <td>80.00</td>\n",
              "      <td>30.00</td>\n",
              "      <td>360</td>\n",
              "      <td>680000.0</td>\n",
              "      <td>5.00</td>\n",
              "      <td>Purchase</td>\n",
              "      <td>Monthly</td>\n",
              "      <td>Single Detached</td>\n",
              "      <td>12</td>\n",
              "      <td>L3Y</td>\n",
              "      <td>25-29</td>\n",
              "      <td>Male</td>\n",
              "      <td>505000</td>\n",
              "      <td>8</td>\n",
              "      <td>23</td>\n",
              "      <td>743</td>\n",
              "      <td>FUNDED</td>\n",
              "    </tr>\n",
              "    <tr>\n",
              "      <th>4</th>\n",
              "      <td>CAX_Train_29414</td>\n",
              "      <td>29414</td>\n",
              "      <td>360000</td>\n",
              "      <td>1900</td>\n",
              "      <td>26.60</td>\n",
              "      <td>66.67</td>\n",
              "      <td>26.76</td>\n",
              "      <td>240</td>\n",
              "      <td>240000.0</td>\n",
              "      <td>5.00</td>\n",
              "      <td>Refinance</td>\n",
              "      <td>Monthly</td>\n",
              "      <td>Single Detached</td>\n",
              "      <td>36</td>\n",
              "      <td>L1T</td>\n",
              "      <td>35-39</td>\n",
              "      <td>Female</td>\n",
              "      <td>93000</td>\n",
              "      <td>2</td>\n",
              "      <td>54</td>\n",
              "      <td>618</td>\n",
              "      <td>FUNDED</td>\n",
              "    </tr>\n",
              "    <tr>\n",
              "      <th>5</th>\n",
              "      <td>CAX_Train_43449</td>\n",
              "      <td>43449</td>\n",
              "      <td>520000</td>\n",
              "      <td>2278</td>\n",
              "      <td>19.03</td>\n",
              "      <td>80.00</td>\n",
              "      <td>33.80</td>\n",
              "      <td>360</td>\n",
              "      <td>416000.0</td>\n",
              "      <td>3.50</td>\n",
              "      <td>Purchase</td>\n",
              "      <td>Monthly</td>\n",
              "      <td>Single Detached</td>\n",
              "      <td>24</td>\n",
              "      <td>L9G</td>\n",
              "      <td>25-29</td>\n",
              "      <td>Male</td>\n",
              "      <td>150000</td>\n",
              "      <td>8</td>\n",
              "      <td>11</td>\n",
              "      <td>725</td>\n",
              "      <td>FUNDED</td>\n",
              "    </tr>\n",
              "    <tr>\n",
              "      <th>6</th>\n",
              "      <td>CAX_Train_39696</td>\n",
              "      <td>39696</td>\n",
              "      <td>400000</td>\n",
              "      <td>1920</td>\n",
              "      <td>15.15</td>\n",
              "      <td>80.00</td>\n",
              "      <td>42.06</td>\n",
              "      <td>360</td>\n",
              "      <td>320000.0</td>\n",
              "      <td>4.00</td>\n",
              "      <td>Purchase</td>\n",
              "      <td>Monthly</td>\n",
              "      <td>Single Detached</td>\n",
              "      <td>12</td>\n",
              "      <td>L4N</td>\n",
              "      <td>35-39</td>\n",
              "      <td>Male</td>\n",
              "      <td>164000</td>\n",
              "      <td>8</td>\n",
              "      <td>54</td>\n",
              "      <td>685</td>\n",
              "      <td>NOT FUNDED</td>\n",
              "    </tr>\n",
              "    <tr>\n",
              "      <th>7</th>\n",
              "      <td>CAX_Train_8382</td>\n",
              "      <td>8382</td>\n",
              "      <td>424000</td>\n",
              "      <td>1559</td>\n",
              "      <td>8.75</td>\n",
              "      <td>65.00</td>\n",
              "      <td>56.59</td>\n",
              "      <td>360</td>\n",
              "      <td>318210.9</td>\n",
              "      <td>4.25</td>\n",
              "      <td>Purchase</td>\n",
              "      <td>Monthly</td>\n",
              "      <td>High Rise</td>\n",
              "      <td>12</td>\n",
              "      <td>L6G</td>\n",
              "      <td>55-59</td>\n",
              "      <td>Female</td>\n",
              "      <td>71000</td>\n",
              "      <td>2</td>\n",
              "      <td>56</td>\n",
              "      <td>678</td>\n",
              "      <td>NOT FUNDED</td>\n",
              "    </tr>\n",
              "    <tr>\n",
              "      <th>8</th>\n",
              "      <td>CAX_Train_15987</td>\n",
              "      <td>15987</td>\n",
              "      <td>940000</td>\n",
              "      <td>3970</td>\n",
              "      <td>27.70</td>\n",
              "      <td>75.01</td>\n",
              "      <td>40.24</td>\n",
              "      <td>360</td>\n",
              "      <td>705000.0</td>\n",
              "      <td>4.00</td>\n",
              "      <td>Purchase</td>\n",
              "      <td>Monthly</td>\n",
              "      <td>Single Detached</td>\n",
              "      <td>12</td>\n",
              "      <td>L6P</td>\n",
              "      <td>40-44</td>\n",
              "      <td>Female</td>\n",
              "      <td>185000</td>\n",
              "      <td>8</td>\n",
              "      <td>56</td>\n",
              "      <td>649</td>\n",
              "      <td>FUNDED</td>\n",
              "    </tr>\n",
              "    <tr>\n",
              "      <th>9</th>\n",
              "      <td>CAX_Train_16131</td>\n",
              "      <td>16131</td>\n",
              "      <td>563000</td>\n",
              "      <td>2263</td>\n",
              "      <td>16.42</td>\n",
              "      <td>48.81</td>\n",
              "      <td>38.45</td>\n",
              "      <td>360</td>\n",
              "      <td>275000.0</td>\n",
              "      <td>6.00</td>\n",
              "      <td>Purchase</td>\n",
              "      <td>Monthly</td>\n",
              "      <td>Single Detached</td>\n",
              "      <td>12</td>\n",
              "      <td>L7A</td>\n",
              "      <td>40-44</td>\n",
              "      <td>Female</td>\n",
              "      <td>63000</td>\n",
              "      <td>3</td>\n",
              "      <td>56</td>\n",
              "      <td>691</td>\n",
              "      <td>FUNDED</td>\n",
              "    </tr>\n",
              "  </tbody>\n",
              "</table>\n",
              "</div>"
            ],
            "text/plain": [
              "         Unique_ID  MORTGAGE NUMBER  ...  CREDIT SCORE      RESULT\n",
              "0  CAX_Train_25108            25108  ...           784      FUNDED\n",
              "1  CAX_Train_35282            35282  ...           717      FUNDED\n",
              "2  CAX_Train_15462            15462  ...             0      FUNDED\n",
              "3  CAX_Train_12736            12736  ...           743      FUNDED\n",
              "4  CAX_Train_29414            29414  ...           618      FUNDED\n",
              "5  CAX_Train_43449            43449  ...           725      FUNDED\n",
              "6  CAX_Train_39696            39696  ...           685  NOT FUNDED\n",
              "7   CAX_Train_8382             8382  ...           678  NOT FUNDED\n",
              "8  CAX_Train_15987            15987  ...           649      FUNDED\n",
              "9  CAX_Train_16131            16131  ...           691      FUNDED\n",
              "\n",
              "[10 rows x 22 columns]"
            ]
          },
          "metadata": {
            "tags": []
          },
          "execution_count": 6
        }
      ]
    },
    {
      "cell_type": "markdown",
      "metadata": {
        "id": "H6N4eR9vEXQi",
        "colab_type": "text"
      },
      "source": [
        "Explanatory variables are grouped into categorical variables and numerical variables and for each one let's do a graphical and non-graphical analysis, but before this split let's run some some data preparation activities."
      ]
    },
    {
      "cell_type": "markdown",
      "metadata": {
        "id": "UqhoHvdpPKse",
        "colab_type": "text"
      },
      "source": [
        "# Formatting Features"
      ]
    },
    {
      "cell_type": "markdown",
      "metadata": {
        "id": "bbHzfBaj2J5t",
        "colab_type": "text"
      },
      "source": [
        "If necessary, it's a good practice to format data, after have taken a peek of it. Missing values on numeric features are marked by \"-1\", meanwhile for categorical features they are marked with \"Unknown\"; let's imput these values with \"NA\".  "
      ]
    },
    {
      "cell_type": "code",
      "metadata": {
        "id": "BoC1p8FWLFbF",
        "colab_type": "code",
        "colab": {}
      },
      "source": [
        "# Replaced both '-1' and 'Unknown' values with NA's\n",
        "X_full[X_full== -1] = np.nan\n",
        "X_full[X_full==\"Unknown\"] = np.nan"
      ],
      "execution_count": 0,
      "outputs": []
    },
    {
      "cell_type": "code",
      "metadata": {
        "id": "Cfr3gw7vQeWB",
        "colab_type": "code",
        "colab": {}
      },
      "source": [
        "# Format data into float and object types\n",
        "X_full['PROPERTY VALUE'] = X_full['PROPERTY VALUE'].astype(float)\n",
        "X_full['MORTGAGE PAYMENT'] = X_full['MORTGAGE PAYMENT'].astype(float)\n",
        "X_full['AMORTIZATION'] = X_full['AMORTIZATION'].astype(float)\n",
        "X_full['TERM'] = X_full['TERM'].astype(float)\n",
        "X_full['INCOME'] = X_full['INCOME'].astype(float)\n",
        "X_full['INCOME TYPE'] = X_full['INCOME TYPE'].astype(object)\n",
        "X_full['CREDIT SCORE'] = X_full['CREDIT SCORE'].astype(float)"
      ],
      "execution_count": 0,
      "outputs": []
    },
    {
      "cell_type": "code",
      "metadata": {
        "id": "Sa67IEEHGdPg",
        "colab_type": "code",
        "colab": {}
      },
      "source": [
        "# Rename some features for a practical use\n",
        "X_full = X_full.rename(columns={\"MORTGAGE PURPOSE\":\"MORTGAGE_PURPOSE\",\"PAYMENT FREQUENCY\":\"PAYMENT_FREQUENCY\",\"PROPERTY TYPE\":\"PROPERTY_TYPE\",\"AGE RANGE\":\"AGE_RANGE\",\"PROPERTY VALUE\": \"PROPERTY_VALUE\",\n",
        "                                \"MORTGAGE PAYMENT\": \"MORTGAGE_PAYMENT\", \"MORTGAGE AMOUNT\":\"MORTGAGE_AMOUNT\",\"INCOME TYPE\":\"INCOME_TYPE\",\"CREDIT SCORE\":\"CREDIT_SCORE\"})"
      ],
      "execution_count": 0,
      "outputs": []
    },
    {
      "cell_type": "markdown",
      "metadata": {
        "id": "MJDCLUOUl-dv",
        "colab_type": "text"
      },
      "source": [
        "# Handling missing values"
      ]
    },
    {
      "cell_type": "markdown",
      "metadata": {
        "id": "w6F1o-jDnAp_",
        "colab_type": "text"
      },
      "source": [
        "There are two categorical features with missing values lower than 40%. The approach followed: fill up missing values with the mode of each variable and for both of them let's creat a boolean feature with 1 (true-missing value) or 0 (false-actual value). \"[Pawel Grabinski](https://www.kdnuggets.com/2018/12/feature-engineering-explained.html)\""
      ]
    },
    {
      "cell_type": "code",
      "metadata": {
        "id": "vPRuA3QAmGr8",
        "colab_type": "code",
        "outputId": "c6cff6f5-9dd5-402e-ac55-b71c1216e6ba",
        "colab": {
          "base_uri": "https://localhost:8080/",
          "height": 391
        }
      },
      "source": [
        "# Check missing values both to numeric features and categorical features\n",
        "X_full.isnull().sum()/X_full.shape[0]*100"
      ],
      "execution_count": 0,
      "outputs": [
        {
          "output_type": "execute_result",
          "data": {
            "text/plain": [
              "Unique_ID             0.000000\n",
              "MORTGAGE NUMBER       0.000000\n",
              "PROPERTY_VALUE        0.000000\n",
              "MORTGAGE_PAYMENT      0.000000\n",
              "GDS                   0.000000\n",
              "LTV                   0.000000\n",
              "TDS                   0.000000\n",
              "AMORTIZATION          0.000000\n",
              "MORTGAGE_AMOUNT       0.000000\n",
              "RATE                  0.000000\n",
              "MORTGAGE_PURPOSE      0.000000\n",
              "PAYMENT_FREQUENCY     0.000000\n",
              "PROPERTY_TYPE         0.000000\n",
              "TERM                  0.000000\n",
              "FSA                   0.000000\n",
              "AGE_RANGE             0.000000\n",
              "GENDER               13.978966\n",
              "INCOME                0.000000\n",
              "INCOME_TYPE           0.438212\n",
              "NAICS CODE            0.000000\n",
              "CREDIT_SCORE          0.000000\n",
              "dtype: float64"
            ]
          },
          "metadata": {
            "tags": []
          },
          "execution_count": 10
        }
      ]
    },
    {
      "cell_type": "code",
      "metadata": {
        "id": "tnCUQktgnIib",
        "colab_type": "code",
        "colab": {}
      },
      "source": [
        "# Attaching boolean feature for each variable with missing values\n",
        "X_full['GENDER_'] = np.where(X_full['GENDER'].isnull(), 1, 0)\n",
        "X_full['GENDER_'] = X_full['GENDER_'].astype(object)\n",
        "X_full['INCOME_TYPE_'] = np.where(X_full['INCOME_TYPE'].isnull(), 1, 0)\n",
        "X_full['INCOME_TYPE_'] = X_full['INCOME_TYPE_'].astype(object)"
      ],
      "execution_count": 0,
      "outputs": []
    },
    {
      "cell_type": "code",
      "metadata": {
        "id": "espKgZhvnJiB",
        "colab_type": "code",
        "colab": {}
      },
      "source": [
        "# Input missing values with median or mode depending of features class\n",
        "X_full['GENDER'].fillna(X_full['GENDER'].mode()[0], inplace=True)\n",
        "X_full['GENDER'] = X_full['GENDER'].astype(object)\n",
        "X_full['INCOME_TYPE'].fillna(X_full['INCOME_TYPE'].mode()[0], inplace=True)\n",
        "X_full['INCOME_TYPE'] = X_full['INCOME_TYPE'].astype(object)"
      ],
      "execution_count": 0,
      "outputs": []
    },
    {
      "cell_type": "code",
      "metadata": {
        "id": "QEut5Q20nL6k",
        "colab_type": "code",
        "outputId": "1d770dda-6db7-4583-c613-3ecb7c154945",
        "colab": {
          "base_uri": "https://localhost:8080/",
          "height": 425
        }
      },
      "source": [
        "# final check\n",
        "X_full.isnull().sum()/X_full.shape[0]*100"
      ],
      "execution_count": 0,
      "outputs": [
        {
          "output_type": "execute_result",
          "data": {
            "text/plain": [
              "Unique_ID            0.0\n",
              "MORTGAGE NUMBER      0.0\n",
              "PROPERTY_VALUE       0.0\n",
              "MORTGAGE_PAYMENT     0.0\n",
              "GDS                  0.0\n",
              "LTV                  0.0\n",
              "TDS                  0.0\n",
              "AMORTIZATION         0.0\n",
              "MORTGAGE_AMOUNT      0.0\n",
              "RATE                 0.0\n",
              "MORTGAGE_PURPOSE     0.0\n",
              "PAYMENT_FREQUENCY    0.0\n",
              "PROPERTY_TYPE        0.0\n",
              "TERM                 0.0\n",
              "FSA                  0.0\n",
              "AGE_RANGE            0.0\n",
              "GENDER               0.0\n",
              "INCOME               0.0\n",
              "INCOME_TYPE          0.0\n",
              "NAICS CODE           0.0\n",
              "CREDIT_SCORE         0.0\n",
              "GENDER_              0.0\n",
              "INCOME_TYPE_         0.0\n",
              "dtype: float64"
            ]
          },
          "metadata": {
            "tags": []
          },
          "execution_count": 13
        }
      ]
    },
    {
      "cell_type": "markdown",
      "metadata": {
        "id": "uqcTsDB4OkMK",
        "colab_type": "text"
      },
      "source": [
        "# Handling Categorical Features\n"
      ]
    },
    {
      "cell_type": "code",
      "metadata": {
        "id": "J-ayO8HNVLcH",
        "colab_type": "code",
        "outputId": "4e643caf-1aee-44b0-d727-8d3f01807584",
        "colab": {
          "base_uri": "https://localhost:8080/",
          "height": 204
        }
      },
      "source": [
        "# let's have a look at how many labels for categorical features\n",
        "for col in X_full.columns:\n",
        "  if X_full[col].dtype ==\"object\":\n",
        "    print(col, ': ', len(X_full[col].unique()), ' labels')"
      ],
      "execution_count": 0,
      "outputs": [
        {
          "output_type": "stream",
          "text": [
            "Unique_ID :  4564  labels\n",
            "MORTGAGE_PURPOSE :  2  labels\n",
            "PAYMENT_FREQUENCY :  3  labels\n",
            "PROPERTY_TYPE :  8  labels\n",
            "FSA :  753  labels\n",
            "AGE_RANGE :  11  labels\n",
            "GENDER :  2  labels\n",
            "INCOME_TYPE :  16  labels\n",
            "NAICS CODE :  19  labels\n",
            "GENDER_ :  2  labels\n",
            "INCOME_TYPE_ :  2  labels\n"
          ],
          "name": "stdout"
        }
      ]
    },
    {
      "cell_type": "code",
      "metadata": {
        "id": "NREoC4kEBP17",
        "colab_type": "code",
        "colab": {}
      },
      "source": [
        "# Select categorical columns with relatively low cardinality (convenient but arbitrary)\n",
        "categorical_cols = [cname for cname in X_full.columns if\n",
        "                    X_full[cname].nunique() <= 15 and \n",
        "                    X_full[cname].dtype == \"object\"]"
      ],
      "execution_count": 0,
      "outputs": []
    },
    {
      "cell_type": "code",
      "metadata": {
        "id": "IfZUySHMrLiS",
        "colab_type": "code",
        "outputId": "6889e9ba-9220-487b-d170-e5444d805e00",
        "colab": {
          "base_uri": "https://localhost:8080/",
          "height": 68
        }
      },
      "source": [
        "# Subset with categorical features\n",
        "cat = X_full[categorical_cols]\n",
        "cat.columns\n"
      ],
      "execution_count": 0,
      "outputs": [
        {
          "output_type": "execute_result",
          "data": {
            "text/plain": [
              "Index(['MORTGAGE_PURPOSE', 'PAYMENT_FREQUENCY', 'PROPERTY_TYPE', 'AGE_RANGE',\n",
              "       'GENDER', 'GENDER_', 'INCOME_TYPE_'],\n",
              "      dtype='object')"
            ]
          },
          "metadata": {
            "tags": []
          },
          "execution_count": 16
        }
      ]
    },
    {
      "cell_type": "code",
      "metadata": {
        "id": "y9notscfuyPD",
        "colab_type": "code",
        "outputId": "1681af2c-3581-4ac0-e51f-9b99a70dd8cd",
        "colab": {
          "base_uri": "https://localhost:8080/",
          "height": 255
        }
      },
      "source": [
        "cat.info()"
      ],
      "execution_count": 0,
      "outputs": [
        {
          "output_type": "stream",
          "text": [
            "<class 'pandas.core.frame.DataFrame'>\n",
            "RangeIndex: 4564 entries, 0 to 4563\n",
            "Data columns (total 7 columns):\n",
            " #   Column             Non-Null Count  Dtype \n",
            "---  ------             --------------  ----- \n",
            " 0   MORTGAGE_PURPOSE   4564 non-null   object\n",
            " 1   PAYMENT_FREQUENCY  4564 non-null   object\n",
            " 2   PROPERTY_TYPE      4564 non-null   object\n",
            " 3   AGE_RANGE          4564 non-null   object\n",
            " 4   GENDER             4564 non-null   object\n",
            " 5   GENDER_            4564 non-null   object\n",
            " 6   INCOME_TYPE_       4564 non-null   object\n",
            "dtypes: object(7)\n",
            "memory usage: 249.7+ KB\n"
          ],
          "name": "stdout"
        }
      ]
    },
    {
      "cell_type": "markdown",
      "metadata": {
        "id": "aHJVRnRmT7-j",
        "colab_type": "text"
      },
      "source": [
        "#####- Feature Engineering on categorical features: one-hot encoding"
      ]
    },
    {
      "cell_type": "markdown",
      "metadata": {
        "id": "CSvpWEpNMQuJ",
        "colab_type": "text"
      },
      "source": [
        "Let's transform categorical features into numerical variables with one-hot encoding methodology to afford a better understanding of variables by machine learning models."
      ]
    },
    {
      "cell_type": "code",
      "metadata": {
        "id": "i7UsSPk3EdMd",
        "colab_type": "code",
        "colab": {}
      },
      "source": [
        "# One-hot encode the data (to shorten the code, I use pandas)\n",
        "HOcat = pd.concat([pd.get_dummies(cat.MORTGAGE_PURPOSE, drop_first=True), pd.get_dummies(cat.PAYMENT_FREQUENCY, drop_first=True), pd.get_dummies(cat.PROPERTY_TYPE, drop_first=True), \n",
        "                  pd.get_dummies(cat.AGE_RANGE, drop_first=True), pd.get_dummies(cat.GENDER, drop_first=True), pd.get_dummies(cat.GENDER_, prefix='MISS_GENDER', drop_first=True), \n",
        "                  pd.get_dummies(cat.INCOME_TYPE_, prefix='MISS_TYPE', drop_first=True)], axis=1)\n",
        "\n",
        "HOcat = HOcat.astype(int)\n"
      ],
      "execution_count": 0,
      "outputs": []
    },
    {
      "cell_type": "code",
      "metadata": {
        "id": "Nsr5D7xTHNdc",
        "colab_type": "code",
        "outputId": "a370ba47-c5bc-42a9-f842-a3147748f904",
        "colab": {
          "base_uri": "https://localhost:8080/",
          "height": 34
        }
      },
      "source": [
        "# Look at the new subset\n",
        "HOcat.shape"
      ],
      "execution_count": 0,
      "outputs": [
        {
          "output_type": "execute_result",
          "data": {
            "text/plain": [
              "(4564, 23)"
            ]
          },
          "metadata": {
            "tags": []
          },
          "execution_count": 19
        }
      ]
    },
    {
      "cell_type": "code",
      "metadata": {
        "id": "7pUe0kjijI5i",
        "colab_type": "code",
        "outputId": "27fef764-d40f-4e2e-edec-18427af0c253",
        "colab": {
          "base_uri": "https://localhost:8080/",
          "height": 238
        }
      },
      "source": [
        "HOcat.head()"
      ],
      "execution_count": 0,
      "outputs": [
        {
          "output_type": "execute_result",
          "data": {
            "text/html": [
              "<div>\n",
              "<style scoped>\n",
              "    .dataframe tbody tr th:only-of-type {\n",
              "        vertical-align: middle;\n",
              "    }\n",
              "\n",
              "    .dataframe tbody tr th {\n",
              "        vertical-align: top;\n",
              "    }\n",
              "\n",
              "    .dataframe thead th {\n",
              "        text-align: right;\n",
              "    }\n",
              "</style>\n",
              "<table border=\"1\" class=\"dataframe\">\n",
              "  <thead>\n",
              "    <tr style=\"text-align: right;\">\n",
              "      <th></th>\n",
              "      <th>Refinance</th>\n",
              "      <th>Bi-Weekly Accelerated</th>\n",
              "      <th>Monthly</th>\n",
              "      <th>Fourplex</th>\n",
              "      <th>High Rise</th>\n",
              "      <th>Semi-Detached</th>\n",
              "      <th>Single Detached</th>\n",
              "      <th>Townhouse Condominium</th>\n",
              "      <th>Townhouse Freehold</th>\n",
              "      <th>Triplex</th>\n",
              "      <th>30-34</th>\n",
              "      <th>35-39</th>\n",
              "      <th>40-44</th>\n",
              "      <th>45-49</th>\n",
              "      <th>50-54</th>\n",
              "      <th>55-59</th>\n",
              "      <th>60-64</th>\n",
              "      <th>65-69</th>\n",
              "      <th>70 and over</th>\n",
              "      <th>Under 25</th>\n",
              "      <th>Male</th>\n",
              "      <th>MISS_GENDER_1</th>\n",
              "      <th>MISS_TYPE_1</th>\n",
              "    </tr>\n",
              "  </thead>\n",
              "  <tbody>\n",
              "    <tr>\n",
              "      <th>0</th>\n",
              "      <td>1</td>\n",
              "      <td>0</td>\n",
              "      <td>1</td>\n",
              "      <td>0</td>\n",
              "      <td>0</td>\n",
              "      <td>0</td>\n",
              "      <td>0</td>\n",
              "      <td>0</td>\n",
              "      <td>1</td>\n",
              "      <td>0</td>\n",
              "      <td>0</td>\n",
              "      <td>0</td>\n",
              "      <td>1</td>\n",
              "      <td>0</td>\n",
              "      <td>0</td>\n",
              "      <td>0</td>\n",
              "      <td>0</td>\n",
              "      <td>0</td>\n",
              "      <td>0</td>\n",
              "      <td>0</td>\n",
              "      <td>0</td>\n",
              "      <td>0</td>\n",
              "      <td>0</td>\n",
              "    </tr>\n",
              "    <tr>\n",
              "      <th>1</th>\n",
              "      <td>1</td>\n",
              "      <td>0</td>\n",
              "      <td>1</td>\n",
              "      <td>0</td>\n",
              "      <td>0</td>\n",
              "      <td>1</td>\n",
              "      <td>0</td>\n",
              "      <td>0</td>\n",
              "      <td>0</td>\n",
              "      <td>0</td>\n",
              "      <td>0</td>\n",
              "      <td>0</td>\n",
              "      <td>0</td>\n",
              "      <td>0</td>\n",
              "      <td>1</td>\n",
              "      <td>0</td>\n",
              "      <td>0</td>\n",
              "      <td>0</td>\n",
              "      <td>0</td>\n",
              "      <td>0</td>\n",
              "      <td>0</td>\n",
              "      <td>0</td>\n",
              "      <td>0</td>\n",
              "    </tr>\n",
              "    <tr>\n",
              "      <th>2</th>\n",
              "      <td>1</td>\n",
              "      <td>0</td>\n",
              "      <td>1</td>\n",
              "      <td>0</td>\n",
              "      <td>0</td>\n",
              "      <td>0</td>\n",
              "      <td>1</td>\n",
              "      <td>0</td>\n",
              "      <td>0</td>\n",
              "      <td>0</td>\n",
              "      <td>0</td>\n",
              "      <td>0</td>\n",
              "      <td>0</td>\n",
              "      <td>0</td>\n",
              "      <td>0</td>\n",
              "      <td>0</td>\n",
              "      <td>0</td>\n",
              "      <td>0</td>\n",
              "      <td>1</td>\n",
              "      <td>0</td>\n",
              "      <td>1</td>\n",
              "      <td>0</td>\n",
              "      <td>0</td>\n",
              "    </tr>\n",
              "    <tr>\n",
              "      <th>3</th>\n",
              "      <td>0</td>\n",
              "      <td>0</td>\n",
              "      <td>1</td>\n",
              "      <td>0</td>\n",
              "      <td>0</td>\n",
              "      <td>0</td>\n",
              "      <td>1</td>\n",
              "      <td>0</td>\n",
              "      <td>0</td>\n",
              "      <td>0</td>\n",
              "      <td>0</td>\n",
              "      <td>0</td>\n",
              "      <td>0</td>\n",
              "      <td>0</td>\n",
              "      <td>0</td>\n",
              "      <td>0</td>\n",
              "      <td>0</td>\n",
              "      <td>0</td>\n",
              "      <td>0</td>\n",
              "      <td>0</td>\n",
              "      <td>1</td>\n",
              "      <td>0</td>\n",
              "      <td>0</td>\n",
              "    </tr>\n",
              "    <tr>\n",
              "      <th>4</th>\n",
              "      <td>1</td>\n",
              "      <td>0</td>\n",
              "      <td>1</td>\n",
              "      <td>0</td>\n",
              "      <td>0</td>\n",
              "      <td>0</td>\n",
              "      <td>1</td>\n",
              "      <td>0</td>\n",
              "      <td>0</td>\n",
              "      <td>0</td>\n",
              "      <td>0</td>\n",
              "      <td>1</td>\n",
              "      <td>0</td>\n",
              "      <td>0</td>\n",
              "      <td>0</td>\n",
              "      <td>0</td>\n",
              "      <td>0</td>\n",
              "      <td>0</td>\n",
              "      <td>0</td>\n",
              "      <td>0</td>\n",
              "      <td>0</td>\n",
              "      <td>0</td>\n",
              "      <td>0</td>\n",
              "    </tr>\n",
              "  </tbody>\n",
              "</table>\n",
              "</div>"
            ],
            "text/plain": [
              "   Refinance  Bi-Weekly Accelerated  Monthly  ...  Male  MISS_GENDER_1  MISS_TYPE_1\n",
              "0          1                      0        1  ...     0              0            0\n",
              "1          1                      0        1  ...     0              0            0\n",
              "2          1                      0        1  ...     1              0            0\n",
              "3          0                      0        1  ...     1              0            0\n",
              "4          1                      0        1  ...     0              0            0\n",
              "\n",
              "[5 rows x 23 columns]"
            ]
          },
          "metadata": {
            "tags": []
          },
          "execution_count": 20
        }
      ]
    },
    {
      "cell_type": "markdown",
      "metadata": {
        "id": "zCBiK4JWVSCW",
        "colab_type": "text"
      },
      "source": [
        "# Numerical Features"
      ]
    },
    {
      "cell_type": "code",
      "metadata": {
        "id": "dtzxuguSMoTG",
        "colab_type": "code",
        "colab": {}
      },
      "source": [
        "# Select numerical columns\n",
        "numerical_cols = [cname for cname in X_full.columns if \n",
        "                X_full[cname].dtype in ['float64']]"
      ],
      "execution_count": 0,
      "outputs": []
    },
    {
      "cell_type": "code",
      "metadata": {
        "id": "Y565vj1nMobi",
        "colab_type": "code",
        "outputId": "da107791-11bb-4c7a-beb5-a8c67bdb910c",
        "colab": {
          "base_uri": "https://localhost:8080/",
          "height": 85
        }
      },
      "source": [
        "# Subset with numerical features\n",
        "num = X_full[numerical_cols]\n",
        "num.columns"
      ],
      "execution_count": 0,
      "outputs": [
        {
          "output_type": "execute_result",
          "data": {
            "text/plain": [
              "Index(['PROPERTY_VALUE', 'MORTGAGE_PAYMENT', 'GDS', 'LTV', 'TDS',\n",
              "       'AMORTIZATION', 'MORTGAGE_AMOUNT', 'RATE', 'TERM', 'INCOME',\n",
              "       'CREDIT_SCORE'],\n",
              "      dtype='object')"
            ]
          },
          "metadata": {
            "tags": []
          },
          "execution_count": 22
        }
      ]
    },
    {
      "cell_type": "code",
      "metadata": {
        "id": "UKW0YwtqMtCf",
        "colab_type": "code",
        "outputId": "e89b4d1d-040d-4b41-fa3e-282b9b2a2138",
        "colab": {
          "base_uri": "https://localhost:8080/",
          "height": 323
        }
      },
      "source": [
        "num.info()"
      ],
      "execution_count": 0,
      "outputs": [
        {
          "output_type": "stream",
          "text": [
            "<class 'pandas.core.frame.DataFrame'>\n",
            "RangeIndex: 4564 entries, 0 to 4563\n",
            "Data columns (total 11 columns):\n",
            " #   Column            Non-Null Count  Dtype  \n",
            "---  ------            --------------  -----  \n",
            " 0   PROPERTY_VALUE    4564 non-null   float64\n",
            " 1   MORTGAGE_PAYMENT  4564 non-null   float64\n",
            " 2   GDS               4564 non-null   float64\n",
            " 3   LTV               4564 non-null   float64\n",
            " 4   TDS               4564 non-null   float64\n",
            " 5   AMORTIZATION      4564 non-null   float64\n",
            " 6   MORTGAGE_AMOUNT   4564 non-null   float64\n",
            " 7   RATE              4564 non-null   float64\n",
            " 8   TERM              4564 non-null   float64\n",
            " 9   INCOME            4564 non-null   float64\n",
            " 10  CREDIT_SCORE      4564 non-null   float64\n",
            "dtypes: float64(11)\n",
            "memory usage: 392.3 KB\n"
          ],
          "name": "stdout"
        }
      ]
    },
    {
      "cell_type": "code",
      "metadata": {
        "id": "B3u8LSBPMvij",
        "colab_type": "code",
        "colab": {}
      },
      "source": [
        "# Grasp all\n",
        "X_all = pd.concat([HOcat, num], axis=1, join='inner')"
      ],
      "execution_count": 0,
      "outputs": []
    },
    {
      "cell_type": "markdown",
      "metadata": {
        "id": "qe16GLXqopQl",
        "colab_type": "text"
      },
      "source": [
        "# Modeling Part"
      ]
    },
    {
      "cell_type": "markdown",
      "metadata": {
        "id": "z5VfzCYGcWgq",
        "colab_type": "text"
      },
      "source": [
        "The traditional data exploration is extended looking at the behaviour of several baseline models and which features can be relevant for the prediction. This exploration is splitted in two parts: without handling the imbalanced target variable (scaled baseline models) and handling it (scaled baseline models).  "
      ]
    },
    {
      "cell_type": "markdown",
      "metadata": {
        "id": "6S3Jt8sxLF2b",
        "colab_type": "text"
      },
      "source": [
        "- Evaluation Metric and Confusion Matrix"
      ]
    },
    {
      "cell_type": "markdown",
      "metadata": {
        "id": "9zebre5UP0u7",
        "colab_type": "text"
      },
      "source": [
        "The confusion matrix is a summary table representation of prediction results for a classification problem. The number of correct and incorrect predictions are summarized with count values and broken down by each class. The diagonal elements represent the number of points for which the predicted label is equal to the true label, while off-diagonal elements are those that are mislabeled by the classifier. Good predictions coming from the higher diagonal values of the confusion matrix. For this imbalanced classification task is not used Accuracy metric but more appropriately the F1 score metric that combines both precision and recall, it's an harmonic mean between them, it's indicates how precise is the classifier (precision) and how robust it is (recall). F1 score equal to 0.00 indicates a poor model, instead F1 score equal 1.00 indicates a perfect model.\n"
      ]
    },
    {
      "cell_type": "markdown",
      "metadata": {
        "id": "bxmsWT7XyYgA",
        "colab_type": "text"
      },
      "source": [
        "- Pre-processing"
      ]
    },
    {
      "cell_type": "markdown",
      "metadata": {
        "id": "n_Hw64zwxu_6",
        "colab_type": "text"
      },
      "source": [
        "To analyze the performance of a model is a good manner to split the data set into the training set and the test set. It's been decided to split it into three parts: training set, validation set and test set for a better understanding of models. The training set is a sample of data used to fit the model, meanwhile the validation set is a sample of data used to provide an unbiased evaluation of the model that fit on the training set and to tune the model hyperparameters (not in this explorative phase). The test set is a sample of data used to provide an unbiased evaluation of the model applied on data never seen before."
      ]
    },
    {
      "cell_type": "markdown",
      "metadata": {
        "id": "_Vlsxgkc45IH",
        "colab_type": "text"
      },
      "source": [
        "- Standardization"
      ]
    },
    {
      "cell_type": "markdown",
      "metadata": {
        "id": "geBXV2Ah45YO",
        "colab_type": "text"
      },
      "source": [
        "Since values of the features are not uniform and may be neagatively impact the skill of some models, the same models are evaluated with a standardized copy of the data set. It means, data are transformed such that each feature has a mean value of 0 and a standard deviation of 1. "
      ]
    },
    {
      "cell_type": "markdown",
      "metadata": {
        "id": "dixm6U6OygkP",
        "colab_type": "text"
      },
      "source": [
        "- Models"
      ]
    },
    {
      "cell_type": "markdown",
      "metadata": {
        "id": "9fHQdwCHxrIL",
        "colab_type": "text"
      },
      "source": [
        "The analysis is based on six baseline models: Logistic Regression as the easiest model and as well as benchmark, then other five models: Bagging, Random Forest, AdaBoost, Gradient Boosting Machine and Neural Networks (MLP)."
      ]
    },
    {
      "cell_type": "markdown",
      "metadata": {
        "id": "EQWGVT8QwwI8",
        "colab_type": "text"
      },
      "source": [
        "#  Modeling Part I: without handling imbalanced data set"
      ]
    },
    {
      "cell_type": "markdown",
      "metadata": {
        "id": "e3g7VOS0w2lD",
        "colab_type": "text"
      },
      "source": [
        "#####- Pre-Processing: split data set"
      ]
    },
    {
      "cell_type": "code",
      "metadata": {
        "id": "csVOGV7Qw5VG",
        "colab_type": "code",
        "colab": {}
      },
      "source": [
        "# Break off validation and test set from training data\n",
        "X_train, X_test, y_train, y_test = train_test_split(X_all, y, train_size=0.8, test_size=0.2,\n",
        "                                                                random_state=0)\n",
        "X_train, X_valid, y_train, y_valid = train_test_split(X_train, y_train, train_size=0.8, test_size=0.2,\n",
        "                                                                random_state=0)"
      ],
      "execution_count": 0,
      "outputs": []
    },
    {
      "cell_type": "markdown",
      "metadata": {
        "id": "Tfvk77arw9dH",
        "colab_type": "text"
      },
      "source": [
        "#####- Pre-Processing: standardization"
      ]
    },
    {
      "cell_type": "code",
      "metadata": {
        "id": "rLARBi9ow-OD",
        "colab_type": "code",
        "colab": {}
      },
      "source": [
        "# Standardization of data\n",
        "sc = StandardScaler()\n",
        "X_train_sc = sc.fit_transform(X_train)\n",
        "X_valid_sc = sc.fit_transform(X_valid)\n",
        "X_test_sc = sc.transform(X_test)"
      ],
      "execution_count": 0,
      "outputs": []
    },
    {
      "cell_type": "markdown",
      "metadata": {
        "id": "mwCD7aCLxEc6",
        "colab_type": "text"
      },
      "source": [
        "#####- Baseline Models"
      ]
    },
    {
      "cell_type": "code",
      "metadata": {
        "id": "6d8vIEE4xFMF",
        "colab_type": "code",
        "outputId": "7fa319a0-8654-4948-d160-2c4537c033a3",
        "colab": {
          "base_uri": "https://localhost:8080/",
          "height": 1000
        }
      },
      "source": [
        "# Spot Check Algorithms\n",
        "models = []\n",
        "models.append(('LogisticRegression', LogisticRegression(random_state=0)))\n",
        "models.append(('Bagging', BaggingClassifier(random_state=0)))\n",
        "models.append(('RandomForest', RandomForestClassifier(random_state=0)))\n",
        "models.append(('AdaBoost', AdaBoostClassifier(random_state=0)))\n",
        "models.append(('GBM', GradientBoostingClassifier(random_state=0)))\n",
        "models.append(('NN', MLPClassifier(random_state=0)))\n",
        "results_tr = []\n",
        "results_v = []\n",
        "results_t = []\n",
        "names = []\n",
        "score = []\n",
        "skf = StratifiedKFold(n_splits=5)\n",
        "for (name, model) in models:\n",
        "    param_grid = {}\n",
        "    my_model = GridSearchCV(model,param_grid,cv=skf)\n",
        "    my_model.fit(X_train_sc, y_train)\n",
        "    predictions_tr = my_model.predict(X_train_sc) \n",
        "    predictions_v = my_model.predict(X_valid_sc)\n",
        "    predictions_t = my_model.predict(X_test_sc)\n",
        "    f1_train = f1_score(y_train, predictions_tr, average='macro') \n",
        "    f1_valid = f1_score(y_valid, predictions_v,average='macro') \n",
        "    f1_test = f1_score(y_test, predictions_t,average='macro') \n",
        "    results_tr.append(f1_train)\n",
        "    results_v.append(f1_valid)\n",
        "    results_t.append(f1_test)\n",
        "    \n",
        "    names.append(name)\n",
        "    f_dict = {\n",
        "        'model': name,\n",
        "        'f1_train': f1_train,\n",
        "        'f1_valid': f1_valid,\n",
        "        'f1_test': f1_test\n",
        "    }\n",
        "    score.append(f_dict)\n",
        "    # Computing Confusion matrix for the above algorithms\n",
        "    sns.set( rc = {'figure.figsize': (5, 5)})\n",
        "    plt.figure()\n",
        "    plot_confusion_matrix(my_model,X_test_sc, y_test,values_format= '.2f', cmap='Blues')\n",
        "    plt.title(name)\n",
        "    plt.show()   \n",
        "score = pd.DataFrame(score, columns = ['model','f1_train', 'f1_valid', 'f1_test'])"
      ],
      "execution_count": 0,
      "outputs": [
        {
          "output_type": "display_data",
          "data": {
            "text/plain": [
              "<Figure size 360x360 with 0 Axes>"
            ]
          },
          "metadata": {
            "tags": []
          }
        },
        {
          "output_type": "display_data",
          "data": {
            "image/png": "[encoded data removed]",
            "text/plain": [
              "<Figure size 360x360 with 2 Axes>"
            ]
          },
          "metadata": {
            "tags": []
          }
        },
        {
          "output_type": "display_data",
          "data": {
            "text/plain": [
              "<Figure size 360x360 with 0 Axes>"
            ]
          },
          "metadata": {
            "tags": []
          }
        },
        {
          "output_type": "display_data",
          "data": {
            "image/png": "[encoded data removed]",
            "text/plain": [
              "<Figure size 360x360 with 2 Axes>"
            ]
          },
          "metadata": {
            "tags": []
          }
        },
        {
          "output_type": "display_data",
          "data": {
            "text/plain": [
              "<Figure size 360x360 with 0 Axes>"
            ]
          },
          "metadata": {
            "tags": []
          }
        },
        {
          "output_type": "display_data",
          "data": {
            "image/png": "[encoded data removed]",
            "text/plain": [
              "<Figure size 360x360 with 2 Axes>"
            ]
          },
          "metadata": {
            "tags": []
          }
        },
        {
          "output_type": "display_data",
          "data": {
            "text/plain": [
              "<Figure size 360x360 with 0 Axes>"
            ]
          },
          "metadata": {
            "tags": []
          }
        },
        {
          "output_type": "display_data",
          "data": {
            "image/png": "[encoded data removed]",
            "text/plain": [
              "<Figure size 360x360 with 2 Axes>"
            ]
          },
          "metadata": {
            "tags": []
          }
        },
        {
          "output_type": "display_data",
          "data": {
            "text/plain": [
              "<Figure size 360x360 with 0 Axes>"
            ]
          },
          "metadata": {
            "tags": []
          }
        },
        {
          "output_type": "display_data",
          "data": {
            "image/png": "[encoded data removed]",
            "text/plain": [
              "<Figure size 360x360 with 2 Axes>"
            ]
          },
          "metadata": {
            "tags": []
          }
        },
        {
          "output_type": "display_data",
          "data": {
            "text/plain": [
              "<Figure size 360x360 with 0 Axes>"
            ]
          },
          "metadata": {
            "tags": []
          }
        },
        {
          "output_type": "display_data",
          "data": {
            "image/png": "[encoded data removed]",
            "text/plain": [
              "<Figure size 360x360 with 2 Axes>"
            ]
          },
          "metadata": {
            "tags": []
          }
        }
      ]
    },
    {
      "cell_type": "code",
      "metadata": {
        "id": "oyNrSed6x_68",
        "colab_type": "code",
        "outputId": "44f38c66-0049-45a7-b2f1-979bf9b5e509",
        "colab": {
          "base_uri": "https://localhost:8080/",
          "height": 136
        }
      },
      "source": [
        "# Look at the F1 score for each model and for each data set\n",
        "print(score)"
      ],
      "execution_count": 0,
      "outputs": [
        {
          "output_type": "stream",
          "text": [
            "                model  f1_train  f1_valid   f1_test\n",
            "0  LogisticRegression  0.449990  0.434706  0.436072\n",
            "1             Bagging  0.959245  0.525772  0.506482\n",
            "2        RandomForest  1.000000  0.469271  0.479845\n",
            "3            AdaBoost  0.531778  0.544049  0.541521\n",
            "4                 GBM  0.589816  0.529389  0.521685\n",
            "5                  NN  0.798478  0.555445  0.569330\n"
          ],
          "name": "stdout"
        }
      ]
    },
    {
      "cell_type": "code",
      "metadata": {
        "id": "BBOAoq8kyDJe",
        "colab_type": "code",
        "outputId": "6a744b94-f9b5-43f3-bfc0-cc81198ae5e1",
        "colab": {
          "base_uri": "https://localhost:8080/",
          "height": 465
        }
      },
      "source": [
        "# Plot results for a graphical comparison\n",
        "print(\"Spot Check Algorithms\")\n",
        "sns.set( rc = {'figure.figsize': (15, 5)})\n",
        "plt.figure()\n",
        "plt.subplot(1,3,1)  \n",
        "sns.stripplot(x=\"model\", y=\"f1_train\",data=score,size=15)\n",
        "plt.xticks(rotation=90)\n",
        "plt.title('Train results')\n",
        "axes = plt.gca()\n",
        "axes.set_ylim([0,1.1])\n",
        "plt.subplot(1,3,2)\n",
        "sns.stripplot(x=\"model\", y=\"f1_valid\",data=score,size=15)\n",
        "plt.xticks(rotation=90)\n",
        "plt.title('Validation results')\n",
        "axes = plt.gca()\n",
        "axes.set_ylim([0,1.1])\n",
        "plt.subplot(1,3,3)\n",
        "sns.stripplot(x=\"model\", y=\"f1_test\",data=score,size=15)\n",
        "plt.xticks(rotation=90)\n",
        "plt.title('Test results')\n",
        "axes = plt.gca()\n",
        "axes.set_ylim([0,1.1])\n",
        "plt.show()"
      ],
      "execution_count": 0,
      "outputs": [
        {
          "output_type": "stream",
          "text": [
            "Spot Check Algorithms\n"
          ],
          "name": "stdout"
        },
        {
          "output_type": "display_data",
          "data": {
            "image/png": "[encoded data removed]",
            "text/plain": [
              "<Figure size 1080x360 with 3 Axes>"
            ]
          },
          "metadata": {
            "tags": []
          }
        }
      ]
    }
  ]
}