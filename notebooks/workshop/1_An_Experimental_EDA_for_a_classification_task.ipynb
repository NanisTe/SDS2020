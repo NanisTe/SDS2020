{
  "nbformat": 4,
  "nbformat_minor": 0,
  "metadata": {
    "colab": {
      "name": "1_An_Experimental_EDA_for_a_classification_task.ipynb",
      "provenance": [],
      "collapsed_sections": [],
      "toc_visible": true,
      "include_colab_link": true
    },
    "kernelspec": {
      "name": "python3",
      "display_name": "Python 3"
    },
    "accelerator": "GPU"
  },
  "cells": [
    {
      "cell_type": "markdown",
      "metadata": {
        "id": "view-in-github",
        "colab_type": "text"
      },
      "source": [
        "<a href=\"https://colab.research.google.com/github/claudio1975/SDS2020/blob/master/notebooks/workshop/1_An_Experimental_EDA_for_a_classification_task.ipynb\" target=\"_parent\"><img src=\"https://colab.research.google.com/assets/colab-badge.svg\" alt=\"Open In Colab\"/></a>"
      ]
    },
    {
      "cell_type": "markdown",
      "metadata": {
        "id": "HlcrvwrX70Uv",
        "colab_type": "text"
      },
      "source": [
        "# **An Experimental Exploratory Data Analysis for a Classification Task step 1**\n",
        "\n",
        "### ***From Visualization to Statistical Analysis***\n",
        "\n",
        "### ***From Feature Engineering to Feature Selection***\n",
        "\n",
        "### ***From the Best Model Selection to Interpretability***\n",
        "\n"
      ]
    },
    {
      "cell_type": "markdown",
      "metadata": {
        "id": "vngHrhnzA7qr",
        "colab_type": "text"
      },
      "source": [
        "To start the exploration set up the environment with libraries, upload the data set (it's stored in a github repository) and split it into target variable and features variables. No more set up is required using Google Colab. Look at the guidelines: https://colab.research.google.com/notebooks/welcome.ipynb"
      ]
    },
    {
      "cell_type": "markdown",
      "metadata": {
        "id": "E2o9mujoz5by",
        "colab_type": "text"
      },
      "source": [
        "#### **Contents**"
      ]
    },
    {
      "cell_type": "markdown",
      "metadata": {
        "id": "LRwDUZ019MxF",
        "colab_type": "text"
      },
      "source": [
        "The goal of this challenge, launched by CrowdAnalytix, is to develop a model to predict whether a mortgage will be funded or not based on certain factors in a customer’s application data. \n",
        "The evaluation metric used is the F1 score.\n",
        "The data set is made up by 45.642 observations with predictor variables (21 features) and the target variable. It's a classification task with the goal to predict the 'Result' target variable for every row (Funded, Not Funded). Look at the competition: https://www.crowdanalytix.com/contests/propensity-to-fund-mortgages\n"
      ]
    },
    {
      "cell_type": "markdown",
      "metadata": {
        "id": "Z9DkyQZ2Ls-4",
        "colab_type": "text"
      },
      "source": [
        "### **Exploratory Data Analysis (EDA) Pipeline**"
      ]
    },
    {
      "cell_type": "markdown",
      "metadata": {
        "id": "ZVQahUb-8995",
        "colab_type": "text"
      },
      "source": [
        "![](http://www.theleader.info/wp-content/uploads/2017/07/Mortgage-rates.jpg)"
      ]
    },
    {
      "cell_type": "markdown",
      "metadata": {
        "id": "Hs9lEhRM0Mne",
        "colab_type": "text"
      },
      "source": [
        "# Prepare Workspace"
      ]
    },
    {
      "cell_type": "markdown",
      "metadata": {
        "id": "zJlI9RQG-A8w",
        "colab_type": "text"
      },
      "source": [
        "#####- Upload libraries"
      ]
    },
    {
      "cell_type": "code",
      "metadata": {
        "id": "XQysnLU9RUKI",
        "colab_type": "code",
        "outputId": "e9799883-20de-4b26-b4b3-942c773068a0",
        "colab": {
          "base_uri": "https://localhost:8080/",
          "height": 1000
        }
      },
      "source": [
        "# Upload libraries\n",
        "\n",
        "# to handle data set\n",
        "import pandas as pd\n",
        "import numpy as np\n",
        "\n",
        "# to plot\n",
        "%matplotlib inline\n",
        "import matplotlib.pyplot as plt\n",
        "import seaborn as sns\n",
        "from sklearn.metrics import plot_confusion_matrix\n",
        "\n",
        "# statistics\n",
        "import statistics\n",
        "import scipy.stats as stats\n",
        "import statsmodels.api as sm\n",
        "from statsmodels.formula.api import logit\n",
        "from scipy.stats import chi2_contingency\n",
        "from scipy.stats import kurtosis \n",
        "from scipy.stats import skew\n",
        "from statistics import stdev \n",
        "\n",
        "# to split data set \n",
        "from sklearn.model_selection import train_test_split\n",
        "\n",
        "# standardization\n",
        "from sklearn.preprocessing import StandardScaler\n",
        "\n",
        "# to build models\n",
        "from sklearn.model_selection import StratifiedKFold\n",
        "from sklearn.model_selection import GridSearchCV\n",
        "from sklearn.ensemble import RandomForestClassifier\n",
        "from sklearn.ensemble import BaggingClassifier\n",
        "from sklearn.ensemble import AdaBoostClassifier\n",
        "from sklearn.ensemble import GradientBoostingClassifier\n",
        "from sklearn.linear_model import LogisticRegression\n",
        "from sklearn.neural_network import MLPClassifier\n",
        "\n",
        "# to evaluate models\n",
        "from sklearn.metrics import f1_score\n",
        "\n",
        "# to handle imbalanced data set\n",
        "from imblearn.over_sampling import RandomOverSampler\n",
        "from collections import Counter\n",
        "\n",
        "# feature engineering\n",
        "!pip install feature-engine\n",
        "import feature_engine\n",
        "from sklearn.preprocessing import KBinsDiscretizer\n",
        "\n",
        "# feature importance\n",
        "from sklearn.tree import DecisionTreeClassifier\n",
        "!pip install eli5 \n",
        "import eli5\n",
        "from eli5.sklearn import PermutationImportance\n",
        "!pip install shap\n",
        "import shap\n",
        "import eli5\n",
        "from eli5.sklearn import PermutationImportance\n",
        "\n",
        "import warnings\n",
        "warnings.filterwarnings('ignore')"
      ],
      "execution_count": 1,
      "outputs": [
        {
          "output_type": "stream",
          "text": [
            "/usr/local/lib/python3.6/dist-packages/statsmodels/tools/_testing.py:19: FutureWarning: pandas.util.testing is deprecated. Use the functions in the public API at pandas.testing instead.\n",
            "  import pandas.util.testing as tm\n",
            "/usr/local/lib/python3.6/dist-packages/sklearn/externals/six.py:31: FutureWarning: The module is deprecated in version 0.21 and will be removed in version 0.23 since we've dropped support for Python 2.7. Please rely on the official version of six (https://pypi.org/project/six/).\n",
            "  \"(https://pypi.org/project/six/).\", FutureWarning)\n",
            "/usr/local/lib/python3.6/dist-packages/sklearn/utils/deprecation.py:144: FutureWarning: The sklearn.neighbors.base module is  deprecated in version 0.22 and will be removed in version 0.24. The corresponding classes / functions should instead be imported from sklearn.neighbors. Anything that cannot be imported from sklearn.neighbors is now part of the private API.\n",
            "  warnings.warn(message, FutureWarning)\n"
          ],
          "name": "stderr"
        },
        {
          "output_type": "stream",
          "text": [
            "Collecting feature-engine\n",
            "  Downloading https://files.pythonhosted.org/packages/46/c9/c6db258859c721ef48f8293bdbe38ad3e367111e499099f01f3be3ee7634/feature_engine-0.4.3-py2.py3-none-any.whl\n",
            "Collecting statsmodels<0.12.0,>=0.11.1\n",
            "\u001b[?25l  Downloading https://files.pythonhosted.org/packages/cb/83/540fd83238a18abe6c2d280fa8e489ac5fcefa1f370f0ca1acd16ae1b860/statsmodels-0.11.1-cp36-cp36m-manylinux1_x86_64.whl (8.7MB)\n",
            "\u001b[K     |████████████████████████████████| 8.7MB 9.7MB/s \n",
            "\u001b[?25hRequirement already satisfied: scikit-learn<0.23.0,>=0.22.2 in /usr/local/lib/python3.6/dist-packages (from feature-engine) (0.22.2.post1)\n",
            "Requirement already satisfied: scipy<1.5.0,>=1.4.1 in /usr/local/lib/python3.6/dist-packages (from feature-engine) (1.4.1)\n",
            "Requirement already satisfied: numpy<1.19.0,>=1.18.2 in /usr/local/lib/python3.6/dist-packages (from feature-engine) (1.18.4)\n",
            "Requirement already satisfied: pandas<1.1.0,>=1.0.3 in /usr/local/lib/python3.6/dist-packages (from feature-engine) (1.0.3)\n",
            "Requirement already satisfied: patsy>=0.5 in /usr/local/lib/python3.6/dist-packages (from statsmodels<0.12.0,>=0.11.1->feature-engine) (0.5.1)\n",
            "Requirement already satisfied: joblib>=0.11 in /usr/local/lib/python3.6/dist-packages (from scikit-learn<0.23.0,>=0.22.2->feature-engine) (0.15.1)\n",
            "Requirement already satisfied: python-dateutil>=2.6.1 in /usr/local/lib/python3.6/dist-packages (from pandas<1.1.0,>=1.0.3->feature-engine) (2.8.1)\n",
            "Requirement already satisfied: pytz>=2017.2 in /usr/local/lib/python3.6/dist-packages (from pandas<1.1.0,>=1.0.3->feature-engine) (2018.9)\n",
            "Requirement already satisfied: six in /usr/local/lib/python3.6/dist-packages (from patsy>=0.5->statsmodels<0.12.0,>=0.11.1->feature-engine) (1.12.0)\n",
            "Installing collected packages: statsmodels, feature-engine\n",
            "  Found existing installation: statsmodels 0.10.2\n",
            "    Uninstalling statsmodels-0.10.2:\n",
            "      Successfully uninstalled statsmodels-0.10.2\n",
            "Successfully installed feature-engine-0.4.3 statsmodels-0.11.1\n"
          ],
          "name": "stdout"
        },
        {
          "output_type": "display_data",
          "data": {
            "application/vnd.colab-display-data+json": {
              "pip_warning": {
                "packages": [
                  "statsmodels"
                ]
              }
            }
          },
          "metadata": {
            "tags": []
          }
        },
        {
          "output_type": "stream",
          "text": [
            "Collecting eli5\n",
            "\u001b[?25l  Downloading https://files.pythonhosted.org/packages/97/2f/c85c7d8f8548e460829971785347e14e45fa5c6617da374711dec8cb38cc/eli5-0.10.1-py2.py3-none-any.whl (105kB)\n",
            "\r\u001b[K     |███                             | 10kB 25.9MB/s eta 0:00:01\r\u001b[K     |██████▏                         | 20kB 3.0MB/s eta 0:00:01\r\u001b[K     |█████████▎                      | 30kB 3.8MB/s eta 0:00:01\r\u001b[K     |████████████▍                   | 40kB 4.3MB/s eta 0:00:01\r\u001b[K     |███████████████▌                | 51kB 3.6MB/s eta 0:00:01\r\u001b[K     |██████████████████▋             | 61kB 4.1MB/s eta 0:00:01\r\u001b[K     |█████████████████████▊          | 71kB 4.3MB/s eta 0:00:01\r\u001b[K     |████████████████████████▊       | 81kB 4.7MB/s eta 0:00:01\r\u001b[K     |███████████████████████████▉    | 92kB 5.1MB/s eta 0:00:01\r\u001b[K     |███████████████████████████████ | 102kB 4.8MB/s eta 0:00:01\r\u001b[K     |████████████████████████████████| 112kB 4.8MB/s \n",
            "\u001b[?25hRequirement already satisfied: tabulate>=0.7.7 in /usr/local/lib/python3.6/dist-packages (from eli5) (0.8.7)\n",
            "Requirement already satisfied: six in /usr/local/lib/python3.6/dist-packages (from eli5) (1.12.0)\n",
            "Requirement already satisfied: graphviz in /usr/local/lib/python3.6/dist-packages (from eli5) (0.10.1)\n",
            "Requirement already satisfied: jinja2 in /usr/local/lib/python3.6/dist-packages (from eli5) (2.11.2)\n",
            "Requirement already satisfied: scikit-learn>=0.18 in /usr/local/lib/python3.6/dist-packages (from eli5) (0.22.2.post1)\n",
            "Requirement already satisfied: numpy>=1.9.0 in /usr/local/lib/python3.6/dist-packages (from eli5) (1.18.4)\n",
            "Requirement already satisfied: scipy in /usr/local/lib/python3.6/dist-packages (from eli5) (1.4.1)\n",
            "Requirement already satisfied: attrs>16.0.0 in /usr/local/lib/python3.6/dist-packages (from eli5) (19.3.0)\n",
            "Requirement already satisfied: MarkupSafe>=0.23 in /usr/local/lib/python3.6/dist-packages (from jinja2->eli5) (1.1.1)\n",
            "Requirement already satisfied: joblib>=0.11 in /usr/local/lib/python3.6/dist-packages (from scikit-learn>=0.18->eli5) (0.15.1)\n",
            "Installing collected packages: eli5\n",
            "Successfully installed eli5-0.10.1\n"
          ],
          "name": "stdout"
        },
        {
          "output_type": "stream",
          "text": [
            "/usr/local/lib/python3.6/dist-packages/sklearn/utils/deprecation.py:144: FutureWarning: The sklearn.metrics.scorer module is  deprecated in version 0.22 and will be removed in version 0.24. The corresponding classes / functions should instead be imported from sklearn.metrics. Anything that cannot be imported from sklearn.metrics is now part of the private API.\n",
            "  warnings.warn(message, FutureWarning)\n",
            "/usr/local/lib/python3.6/dist-packages/sklearn/utils/deprecation.py:144: FutureWarning: The sklearn.feature_selection.base module is  deprecated in version 0.22 and will be removed in version 0.24. The corresponding classes / functions should instead be imported from sklearn.feature_selection. Anything that cannot be imported from sklearn.feature_selection is now part of the private API.\n",
            "  warnings.warn(message, FutureWarning)\n",
            "Using TensorFlow backend.\n"
          ],
          "name": "stderr"
        },
        {
          "output_type": "stream",
          "text": [
            "Collecting shap\n",
            "\u001b[?25l  Downloading https://files.pythonhosted.org/packages/a8/77/b504e43e21a2ba543a1ac4696718beb500cfa708af2fb57cb54ce299045c/shap-0.35.0.tar.gz (273kB)\n",
            "\r\u001b[K     |█▏                              | 10kB 29.0MB/s eta 0:00:01\r\u001b[K     |██▍                             | 20kB 3.0MB/s eta 0:00:01\r\u001b[K     |███▋                            | 30kB 4.0MB/s eta 0:00:01\r\u001b[K     |████▉                           | 40kB 4.3MB/s eta 0:00:01\r\u001b[K     |██████                          | 51kB 3.5MB/s eta 0:00:01\r\u001b[K     |███████▏                        | 61kB 3.9MB/s eta 0:00:01\r\u001b[K     |████████▍                       | 71kB 4.3MB/s eta 0:00:01\r\u001b[K     |█████████▋                      | 81kB 4.7MB/s eta 0:00:01\r\u001b[K     |██████████▉                     | 92kB 4.9MB/s eta 0:00:01\r\u001b[K     |████████████                    | 102kB 4.6MB/s eta 0:00:01\r\u001b[K     |█████████████▏                  | 112kB 4.6MB/s eta 0:00:01\r\u001b[K     |██████████████▍                 | 122kB 4.6MB/s eta 0:00:01\r\u001b[K     |███████████████▋                | 133kB 4.6MB/s eta 0:00:01\r\u001b[K     |████████████████▉               | 143kB 4.6MB/s eta 0:00:01\r\u001b[K     |██████████████████              | 153kB 4.6MB/s eta 0:00:01\r\u001b[K     |███████████████████▏            | 163kB 4.6MB/s eta 0:00:01\r\u001b[K     |████████████████████▍           | 174kB 4.6MB/s eta 0:00:01\r\u001b[K     |█████████████████████▋          | 184kB 4.6MB/s eta 0:00:01\r\u001b[K     |██████████████████████▉         | 194kB 4.6MB/s eta 0:00:01\r\u001b[K     |████████████████████████        | 204kB 4.6MB/s eta 0:00:01\r\u001b[K     |█████████████████████████▏      | 215kB 4.6MB/s eta 0:00:01\r\u001b[K     |██████████████████████████▍     | 225kB 4.6MB/s eta 0:00:01\r\u001b[K     |███████████████████████████▋    | 235kB 4.6MB/s eta 0:00:01\r\u001b[K     |████████████████████████████▉   | 245kB 4.6MB/s eta 0:00:01\r\u001b[K     |██████████████████████████████  | 256kB 4.6MB/s eta 0:00:01\r\u001b[K     |███████████████████████████████▏| 266kB 4.6MB/s eta 0:00:01\r\u001b[K     |████████████████████████████████| 276kB 4.6MB/s \n",
            "\u001b[?25hRequirement already satisfied: numpy in /usr/local/lib/python3.6/dist-packages (from shap) (1.18.4)\n",
            "Requirement already satisfied: scipy in /usr/local/lib/python3.6/dist-packages (from shap) (1.4.1)\n",
            "Requirement already satisfied: scikit-learn in /usr/local/lib/python3.6/dist-packages (from shap) (0.22.2.post1)\n",
            "Requirement already satisfied: pandas in /usr/local/lib/python3.6/dist-packages (from shap) (1.0.3)\n",
            "Requirement already satisfied: tqdm>4.25.0 in /usr/local/lib/python3.6/dist-packages (from shap) (4.41.1)\n",
            "Requirement already satisfied: joblib>=0.11 in /usr/local/lib/python3.6/dist-packages (from scikit-learn->shap) (0.15.1)\n",
            "Requirement already satisfied: pytz>=2017.2 in /usr/local/lib/python3.6/dist-packages (from pandas->shap) (2018.9)\n",
            "Requirement already satisfied: python-dateutil>=2.6.1 in /usr/local/lib/python3.6/dist-packages (from pandas->shap) (2.8.1)\n",
            "Requirement already satisfied: six>=1.5 in /usr/local/lib/python3.6/dist-packages (from python-dateutil>=2.6.1->pandas->shap) (1.12.0)\n",
            "Building wheels for collected packages: shap\n",
            "  Building wheel for shap (setup.py) ... \u001b[?25l\u001b[?25hdone\n",
            "  Created wheel for shap: filename=shap-0.35.0-cp36-cp36m-linux_x86_64.whl size=394118 sha256=eed0f97409162e9312750c62c291d273bf24c48584ea02ba06b82048b4825dc5\n",
            "  Stored in directory: /root/.cache/pip/wheels/e7/f7/0f/b57055080cf8894906b3bd3616d2fc2bfd0b12d5161bcb24ac\n",
            "Successfully built shap\n",
            "Installing collected packages: shap\n",
            "Successfully installed shap-0.35.0\n"
          ],
          "name": "stdout"
        }
      ]
    },
    {
      "cell_type": "markdown",
      "metadata": {
        "id": "ZLFLLtY2-I06",
        "colab_type": "text"
      },
      "source": [
        "#####- Upload data set"
      ]
    },
    {
      "cell_type": "code",
      "metadata": {
        "id": "pgQMY8HqDrGQ",
        "colab_type": "code",
        "colab": {}
      },
      "source": [
        "# Upload dataset\n",
        "url ='https://raw.githubusercontent.com/claudio1975/SDS2020/master/data/CAX_MortgageModeling_Train.csv'\n",
        "df = pd.read_csv(url)"
      ],
      "execution_count": 0,
      "outputs": []
    },
    {
      "cell_type": "markdown",
      "metadata": {
        "id": "Q2_fumrJ-NCl",
        "colab_type": "text"
      },
      "source": [
        "#####- Split data set"
      ]
    },
    {
      "cell_type": "code",
      "metadata": {
        "id": "wwPBNz5pDvDZ",
        "colab_type": "code",
        "colab": {}
      },
      "source": [
        "# Split data set between target and features\n",
        "X_full = df\n",
        "y = X_full.RESULT\n",
        "X_full = X_full.drop(['RESULT'], axis=1)\n"
      ],
      "execution_count": 0,
      "outputs": []
    },
    {
      "cell_type": "markdown",
      "metadata": {
        "id": "cIEjdLM1BGti",
        "colab_type": "text"
      },
      "source": [
        "# Summarize Data"
      ]
    },
    {
      "cell_type": "code",
      "metadata": {
        "id": "hvXmGWII7I_8",
        "colab_type": "code",
        "outputId": "744da38a-d993-4ac3-be43-d876dfba5105",
        "colab": {
          "base_uri": "https://localhost:8080/",
          "height": 502
        }
      },
      "source": [
        "# Look at dimension of data set and types of each attribute\n",
        "df.info()"
      ],
      "execution_count": 4,
      "outputs": [
        {
          "output_type": "stream",
          "text": [
            "<class 'pandas.core.frame.DataFrame'>\n",
            "RangeIndex: 45642 entries, 0 to 45641\n",
            "Data columns (total 22 columns):\n",
            " #   Column             Non-Null Count  Dtype  \n",
            "---  ------             --------------  -----  \n",
            " 0   Unique_ID          45642 non-null  object \n",
            " 1   MORTGAGE NUMBER    45642 non-null  int64  \n",
            " 2   PROPERTY VALUE     45642 non-null  int64  \n",
            " 3   MORTGAGE PAYMENT   45642 non-null  int64  \n",
            " 4   GDS                45642 non-null  float64\n",
            " 5   LTV                45642 non-null  float64\n",
            " 6   TDS                45642 non-null  float64\n",
            " 7   AMORTIZATION       45642 non-null  int64  \n",
            " 8   MORTGAGE AMOUNT    45642 non-null  float64\n",
            " 9   RATE               45642 non-null  float64\n",
            " 10  MORTGAGE PURPOSE   45642 non-null  object \n",
            " 11  PAYMENT FREQUENCY  45642 non-null  object \n",
            " 12  PROPERTY TYPE      45642 non-null  object \n",
            " 13  TERM               45642 non-null  int64  \n",
            " 14  FSA                45642 non-null  object \n",
            " 15  AGE RANGE          45642 non-null  object \n",
            " 16  GENDER             45642 non-null  object \n",
            " 17  INCOME             45642 non-null  int64  \n",
            " 18  INCOME TYPE        45642 non-null  int64  \n",
            " 19  NAICS CODE         45642 non-null  object \n",
            " 20  CREDIT SCORE       45642 non-null  int64  \n",
            " 21  RESULT             45642 non-null  object \n",
            "dtypes: float64(5), int64(8), object(9)\n",
            "memory usage: 7.7+ MB\n"
          ],
          "name": "stdout"
        }
      ]
    },
    {
      "cell_type": "code",
      "metadata": {
        "id": "uDB8l79ZLldm",
        "colab_type": "code",
        "outputId": "d39accbd-9766-4568-dcb6-9d1e680c4941",
        "colab": {
          "base_uri": "https://localhost:8080/",
          "height": 429
        }
      },
      "source": [
        "# Summarize attribute distributions of the data frame\n",
        "df.describe(include='all')"
      ],
      "execution_count": 5,
      "outputs": [
        {
          "output_type": "execute_result",
          "data": {
            "text/html": [
              "<div>\n",
              "<style scoped>\n",
              "    .dataframe tbody tr th:only-of-type {\n",
              "        vertical-align: middle;\n",
              "    }\n",
              "\n",
              "    .dataframe tbody tr th {\n",
              "        vertical-align: top;\n",
              "    }\n",
              "\n",
              "    .dataframe thead th {\n",
              "        text-align: right;\n",
              "    }\n",
              "</style>\n",
              "<table border=\"1\" class=\"dataframe\">\n",
              "  <thead>\n",
              "    <tr style=\"text-align: right;\">\n",
              "      <th></th>\n",
              "      <th>Unique_ID</th>\n",
              "      <th>MORTGAGE NUMBER</th>\n",
              "      <th>PROPERTY VALUE</th>\n",
              "      <th>MORTGAGE PAYMENT</th>\n",
              "      <th>GDS</th>\n",
              "      <th>LTV</th>\n",
              "      <th>TDS</th>\n",
              "      <th>AMORTIZATION</th>\n",
              "      <th>MORTGAGE AMOUNT</th>\n",
              "      <th>RATE</th>\n",
              "      <th>MORTGAGE PURPOSE</th>\n",
              "      <th>PAYMENT FREQUENCY</th>\n",
              "      <th>PROPERTY TYPE</th>\n",
              "      <th>TERM</th>\n",
              "      <th>FSA</th>\n",
              "      <th>AGE RANGE</th>\n",
              "      <th>GENDER</th>\n",
              "      <th>INCOME</th>\n",
              "      <th>INCOME TYPE</th>\n",
              "      <th>NAICS CODE</th>\n",
              "      <th>CREDIT SCORE</th>\n",
              "      <th>RESULT</th>\n",
              "    </tr>\n",
              "  </thead>\n",
              "  <tbody>\n",
              "    <tr>\n",
              "      <th>count</th>\n",
              "      <td>45642</td>\n",
              "      <td>45642.00000</td>\n",
              "      <td>4.564200e+04</td>\n",
              "      <td>45642.000000</td>\n",
              "      <td>4.564200e+04</td>\n",
              "      <td>45642.000000</td>\n",
              "      <td>4.564200e+04</td>\n",
              "      <td>45642.000000</td>\n",
              "      <td>4.564200e+04</td>\n",
              "      <td>45642.000000</td>\n",
              "      <td>45642</td>\n",
              "      <td>45642</td>\n",
              "      <td>45642</td>\n",
              "      <td>45642.000000</td>\n",
              "      <td>45642</td>\n",
              "      <td>45642</td>\n",
              "      <td>45642</td>\n",
              "      <td>4.564200e+04</td>\n",
              "      <td>45642.000000</td>\n",
              "      <td>45642</td>\n",
              "      <td>45642.000000</td>\n",
              "      <td>45642</td>\n",
              "    </tr>\n",
              "    <tr>\n",
              "      <th>unique</th>\n",
              "      <td>45642</td>\n",
              "      <td>NaN</td>\n",
              "      <td>NaN</td>\n",
              "      <td>NaN</td>\n",
              "      <td>NaN</td>\n",
              "      <td>NaN</td>\n",
              "      <td>NaN</td>\n",
              "      <td>NaN</td>\n",
              "      <td>NaN</td>\n",
              "      <td>NaN</td>\n",
              "      <td>2</td>\n",
              "      <td>6</td>\n",
              "      <td>8</td>\n",
              "      <td>NaN</td>\n",
              "      <td>1141</td>\n",
              "      <td>11</td>\n",
              "      <td>3</td>\n",
              "      <td>NaN</td>\n",
              "      <td>NaN</td>\n",
              "      <td>19</td>\n",
              "      <td>NaN</td>\n",
              "      <td>2</td>\n",
              "    </tr>\n",
              "    <tr>\n",
              "      <th>top</th>\n",
              "      <td>CAX_Train_34122</td>\n",
              "      <td>NaN</td>\n",
              "      <td>NaN</td>\n",
              "      <td>NaN</td>\n",
              "      <td>NaN</td>\n",
              "      <td>NaN</td>\n",
              "      <td>NaN</td>\n",
              "      <td>NaN</td>\n",
              "      <td>NaN</td>\n",
              "      <td>NaN</td>\n",
              "      <td>Purchase</td>\n",
              "      <td>Monthly</td>\n",
              "      <td>Single Detached</td>\n",
              "      <td>NaN</td>\n",
              "      <td>L7A</td>\n",
              "      <td>45-49</td>\n",
              "      <td>Male</td>\n",
              "      <td>NaN</td>\n",
              "      <td>NaN</td>\n",
              "      <td>56</td>\n",
              "      <td>NaN</td>\n",
              "      <td>FUNDED</td>\n",
              "    </tr>\n",
              "    <tr>\n",
              "      <th>freq</th>\n",
              "      <td>1</td>\n",
              "      <td>NaN</td>\n",
              "      <td>NaN</td>\n",
              "      <td>NaN</td>\n",
              "      <td>NaN</td>\n",
              "      <td>NaN</td>\n",
              "      <td>NaN</td>\n",
              "      <td>NaN</td>\n",
              "      <td>NaN</td>\n",
              "      <td>NaN</td>\n",
              "      <td>24419</td>\n",
              "      <td>42785</td>\n",
              "      <td>29377</td>\n",
              "      <td>NaN</td>\n",
              "      <td>898</td>\n",
              "      <td>7645</td>\n",
              "      <td>24849</td>\n",
              "      <td>NaN</td>\n",
              "      <td>NaN</td>\n",
              "      <td>11245</td>\n",
              "      <td>NaN</td>\n",
              "      <td>36023</td>\n",
              "    </tr>\n",
              "    <tr>\n",
              "      <th>mean</th>\n",
              "      <td>NaN</td>\n",
              "      <td>22821.50000</td>\n",
              "      <td>5.826110e+05</td>\n",
              "      <td>2392.148043</td>\n",
              "      <td>2.138033e+02</td>\n",
              "      <td>70.632932</td>\n",
              "      <td>4.125670e+02</td>\n",
              "      <td>355.309583</td>\n",
              "      <td>4.255704e+05</td>\n",
              "      <td>4.651149</td>\n",
              "      <td>NaN</td>\n",
              "      <td>NaN</td>\n",
              "      <td>NaN</td>\n",
              "      <td>15.286578</td>\n",
              "      <td>NaN</td>\n",
              "      <td>NaN</td>\n",
              "      <td>NaN</td>\n",
              "      <td>1.251093e+05</td>\n",
              "      <td>5.315017</td>\n",
              "      <td>NaN</td>\n",
              "      <td>662.662811</td>\n",
              "      <td>NaN</td>\n",
              "    </tr>\n",
              "    <tr>\n",
              "      <th>std</th>\n",
              "      <td>NaN</td>\n",
              "      <td>13175.85483</td>\n",
              "      <td>4.382082e+05</td>\n",
              "      <td>1688.208721</td>\n",
              "      <td>3.263766e+04</td>\n",
              "      <td>11.566444</td>\n",
              "      <td>6.425859e+04</td>\n",
              "      <td>18.011798</td>\n",
              "      <td>3.020469e+05</td>\n",
              "      <td>0.642371</td>\n",
              "      <td>NaN</td>\n",
              "      <td>NaN</td>\n",
              "      <td>NaN</td>\n",
              "      <td>7.443857</td>\n",
              "      <td>NaN</td>\n",
              "      <td>NaN</td>\n",
              "      <td>NaN</td>\n",
              "      <td>1.149974e+05</td>\n",
              "      <td>3.267761</td>\n",
              "      <td>NaN</td>\n",
              "      <td>132.818234</td>\n",
              "      <td>NaN</td>\n",
              "    </tr>\n",
              "    <tr>\n",
              "      <th>min</th>\n",
              "      <td>NaN</td>\n",
              "      <td>1.00000</td>\n",
              "      <td>1.400000e+04</td>\n",
              "      <td>141.000000</td>\n",
              "      <td>-3.704000e+01</td>\n",
              "      <td>6.667000</td>\n",
              "      <td>-1.070000e+01</td>\n",
              "      <td>60.000000</td>\n",
              "      <td>1.500000e+04</td>\n",
              "      <td>2.500000</td>\n",
              "      <td>NaN</td>\n",
              "      <td>NaN</td>\n",
              "      <td>NaN</td>\n",
              "      <td>6.000000</td>\n",
              "      <td>NaN</td>\n",
              "      <td>NaN</td>\n",
              "      <td>NaN</td>\n",
              "      <td>1.000000e+03</td>\n",
              "      <td>-1.000000</td>\n",
              "      <td>NaN</td>\n",
              "      <td>0.000000</td>\n",
              "      <td>NaN</td>\n",
              "    </tr>\n",
              "    <tr>\n",
              "      <th>25%</th>\n",
              "      <td>NaN</td>\n",
              "      <td>11411.25000</td>\n",
              "      <td>3.400000e+05</td>\n",
              "      <td>1406.000000</td>\n",
              "      <td>1.984000e+01</td>\n",
              "      <td>65.000000</td>\n",
              "      <td>3.284000e+01</td>\n",
              "      <td>360.000000</td>\n",
              "      <td>2.459250e+05</td>\n",
              "      <td>4.250000</td>\n",
              "      <td>NaN</td>\n",
              "      <td>NaN</td>\n",
              "      <td>NaN</td>\n",
              "      <td>12.000000</td>\n",
              "      <td>NaN</td>\n",
              "      <td>NaN</td>\n",
              "      <td>NaN</td>\n",
              "      <td>6.800000e+04</td>\n",
              "      <td>2.000000</td>\n",
              "      <td>NaN</td>\n",
              "      <td>623.000000</td>\n",
              "      <td>NaN</td>\n",
              "    </tr>\n",
              "    <tr>\n",
              "      <th>50%</th>\n",
              "      <td>NaN</td>\n",
              "      <td>22821.50000</td>\n",
              "      <td>4.770000e+05</td>\n",
              "      <td>2033.000000</td>\n",
              "      <td>2.921000e+01</td>\n",
              "      <td>75.000000</td>\n",
              "      <td>3.830000e+01</td>\n",
              "      <td>360.000000</td>\n",
              "      <td>3.575000e+05</td>\n",
              "      <td>4.500000</td>\n",
              "      <td>NaN</td>\n",
              "      <td>NaN</td>\n",
              "      <td>NaN</td>\n",
              "      <td>12.000000</td>\n",
              "      <td>NaN</td>\n",
              "      <td>NaN</td>\n",
              "      <td>NaN</td>\n",
              "      <td>9.700000e+04</td>\n",
              "      <td>6.000000</td>\n",
              "      <td>NaN</td>\n",
              "      <td>677.000000</td>\n",
              "      <td>NaN</td>\n",
              "    </tr>\n",
              "    <tr>\n",
              "      <th>75%</th>\n",
              "      <td>NaN</td>\n",
              "      <td>34231.75000</td>\n",
              "      <td>6.850000e+05</td>\n",
              "      <td>2866.000000</td>\n",
              "      <td>3.587000e+01</td>\n",
              "      <td>80.000000</td>\n",
              "      <td>4.217000e+01</td>\n",
              "      <td>360.000000</td>\n",
              "      <td>5.120000e+05</td>\n",
              "      <td>5.000000</td>\n",
              "      <td>NaN</td>\n",
              "      <td>NaN</td>\n",
              "      <td>NaN</td>\n",
              "      <td>12.000000</td>\n",
              "      <td>NaN</td>\n",
              "      <td>NaN</td>\n",
              "      <td>NaN</td>\n",
              "      <td>1.450000e+05</td>\n",
              "      <td>8.000000</td>\n",
              "      <td>NaN</td>\n",
              "      <td>736.000000</td>\n",
              "      <td>NaN</td>\n",
              "    </tr>\n",
              "    <tr>\n",
              "      <th>max</th>\n",
              "      <td>NaN</td>\n",
              "      <td>45642.00000</td>\n",
              "      <td>1.800000e+07</td>\n",
              "      <td>46479.000000</td>\n",
              "      <td>6.872300e+06</td>\n",
              "      <td>95.000000</td>\n",
              "      <td>1.346256e+07</td>\n",
              "      <td>480.000000</td>\n",
              "      <td>7.500000e+06</td>\n",
              "      <td>10.000000</td>\n",
              "      <td>NaN</td>\n",
              "      <td>NaN</td>\n",
              "      <td>NaN</td>\n",
              "      <td>60.000000</td>\n",
              "      <td>NaN</td>\n",
              "      <td>NaN</td>\n",
              "      <td>NaN</td>\n",
              "      <td>3.860000e+06</td>\n",
              "      <td>20.000000</td>\n",
              "      <td>NaN</td>\n",
              "      <td>899.000000</td>\n",
              "      <td>NaN</td>\n",
              "    </tr>\n",
              "  </tbody>\n",
              "</table>\n",
              "</div>"
            ],
            "text/plain": [
              "              Unique_ID  MORTGAGE NUMBER  ...  CREDIT SCORE  RESULT\n",
              "count             45642      45642.00000  ...  45642.000000   45642\n",
              "unique            45642              NaN  ...           NaN       2\n",
              "top     CAX_Train_34122              NaN  ...           NaN  FUNDED\n",
              "freq                  1              NaN  ...           NaN   36023\n",
              "mean                NaN      22821.50000  ...    662.662811     NaN\n",
              "std                 NaN      13175.85483  ...    132.818234     NaN\n",
              "min                 NaN          1.00000  ...      0.000000     NaN\n",
              "25%                 NaN      11411.25000  ...    623.000000     NaN\n",
              "50%                 NaN      22821.50000  ...    677.000000     NaN\n",
              "75%                 NaN      34231.75000  ...    736.000000     NaN\n",
              "max                 NaN      45642.00000  ...    899.000000     NaN\n",
              "\n",
              "[11 rows x 22 columns]"
            ]
          },
          "metadata": {
            "tags": []
          },
          "execution_count": 5
        }
      ]
    },
    {
      "cell_type": "code",
      "metadata": {
        "id": "vl_waIVssaPb",
        "colab_type": "code",
        "outputId": "6a0826b2-6742-4092-838f-649958170fb9",
        "colab": {
          "base_uri": "https://localhost:8080/",
          "height": 566
        }
      },
      "source": [
        "# Take a peek at the first rows of the data\n",
        "df.head(10)"
      ],
      "execution_count": 6,
      "outputs": [
        {
          "output_type": "execute_result",
          "data": {
            "text/html": [
              "<div>\n",
              "<style scoped>\n",
              "    .dataframe tbody tr th:only-of-type {\n",
              "        vertical-align: middle;\n",
              "    }\n",
              "\n",
              "    .dataframe tbody tr th {\n",
              "        vertical-align: top;\n",
              "    }\n",
              "\n",
              "    .dataframe thead th {\n",
              "        text-align: right;\n",
              "    }\n",
              "</style>\n",
              "<table border=\"1\" class=\"dataframe\">\n",
              "  <thead>\n",
              "    <tr style=\"text-align: right;\">\n",
              "      <th></th>\n",
              "      <th>Unique_ID</th>\n",
              "      <th>MORTGAGE NUMBER</th>\n",
              "      <th>PROPERTY VALUE</th>\n",
              "      <th>MORTGAGE PAYMENT</th>\n",
              "      <th>GDS</th>\n",
              "      <th>LTV</th>\n",
              "      <th>TDS</th>\n",
              "      <th>AMORTIZATION</th>\n",
              "      <th>MORTGAGE AMOUNT</th>\n",
              "      <th>RATE</th>\n",
              "      <th>MORTGAGE PURPOSE</th>\n",
              "      <th>PAYMENT FREQUENCY</th>\n",
              "      <th>PROPERTY TYPE</th>\n",
              "      <th>TERM</th>\n",
              "      <th>FSA</th>\n",
              "      <th>AGE RANGE</th>\n",
              "      <th>GENDER</th>\n",
              "      <th>INCOME</th>\n",
              "      <th>INCOME TYPE</th>\n",
              "      <th>NAICS CODE</th>\n",
              "      <th>CREDIT SCORE</th>\n",
              "      <th>RESULT</th>\n",
              "    </tr>\n",
              "  </thead>\n",
              "  <tbody>\n",
              "    <tr>\n",
              "      <th>0</th>\n",
              "      <td>CAX_Train_1</td>\n",
              "      <td>1</td>\n",
              "      <td>900000</td>\n",
              "      <td>5429</td>\n",
              "      <td>61.98</td>\n",
              "      <td>65.000</td>\n",
              "      <td>71.63</td>\n",
              "      <td>360</td>\n",
              "      <td>1040000.0</td>\n",
              "      <td>4.0</td>\n",
              "      <td>Refinance</td>\n",
              "      <td>Monthly</td>\n",
              "      <td>Single Detached</td>\n",
              "      <td>12</td>\n",
              "      <td>L4C</td>\n",
              "      <td>Under 25</td>\n",
              "      <td>Male</td>\n",
              "      <td>108000</td>\n",
              "      <td>8</td>\n",
              "      <td>44-45</td>\n",
              "      <td>681</td>\n",
              "      <td>FUNDED</td>\n",
              "    </tr>\n",
              "    <tr>\n",
              "      <th>1</th>\n",
              "      <td>CAX_Train_2</td>\n",
              "      <td>2</td>\n",
              "      <td>386000</td>\n",
              "      <td>2179</td>\n",
              "      <td>35.22</td>\n",
              "      <td>74.290</td>\n",
              "      <td>40.65</td>\n",
              "      <td>360</td>\n",
              "      <td>390000.0</td>\n",
              "      <td>4.5</td>\n",
              "      <td>Refinance</td>\n",
              "      <td>Monthly</td>\n",
              "      <td>Single Detached</td>\n",
              "      <td>12</td>\n",
              "      <td>L9T</td>\n",
              "      <td>70 and over</td>\n",
              "      <td>Male</td>\n",
              "      <td>78000</td>\n",
              "      <td>2</td>\n",
              "      <td>56</td>\n",
              "      <td>710</td>\n",
              "      <td>FUNDED</td>\n",
              "    </tr>\n",
              "    <tr>\n",
              "      <th>2</th>\n",
              "      <td>CAX_Train_3</td>\n",
              "      <td>3</td>\n",
              "      <td>531000</td>\n",
              "      <td>2152</td>\n",
              "      <td>30.97</td>\n",
              "      <td>80.000</td>\n",
              "      <td>35.41</td>\n",
              "      <td>360</td>\n",
              "      <td>424800.0</td>\n",
              "      <td>3.5</td>\n",
              "      <td>Purchase</td>\n",
              "      <td>Monthly</td>\n",
              "      <td>Single Detached</td>\n",
              "      <td>6</td>\n",
              "      <td>M1N</td>\n",
              "      <td>35-39</td>\n",
              "      <td>Female</td>\n",
              "      <td>87000</td>\n",
              "      <td>2</td>\n",
              "      <td>72</td>\n",
              "      <td>709</td>\n",
              "      <td>FUNDED</td>\n",
              "    </tr>\n",
              "    <tr>\n",
              "      <th>3</th>\n",
              "      <td>CAX_Train_4</td>\n",
              "      <td>4</td>\n",
              "      <td>1200000</td>\n",
              "      <td>5410</td>\n",
              "      <td>19.04</td>\n",
              "      <td>75.000</td>\n",
              "      <td>34.14</td>\n",
              "      <td>360</td>\n",
              "      <td>960000.0</td>\n",
              "      <td>5.5</td>\n",
              "      <td>Purchase</td>\n",
              "      <td>Monthly</td>\n",
              "      <td>Single Detached</td>\n",
              "      <td>12</td>\n",
              "      <td>M2M</td>\n",
              "      <td>45-49</td>\n",
              "      <td>Male</td>\n",
              "      <td>300000</td>\n",
              "      <td>8</td>\n",
              "      <td>54</td>\n",
              "      <td>761</td>\n",
              "      <td>FUNDED</td>\n",
              "    </tr>\n",
              "    <tr>\n",
              "      <th>4</th>\n",
              "      <td>CAX_Train_5</td>\n",
              "      <td>5</td>\n",
              "      <td>350000</td>\n",
              "      <td>3342</td>\n",
              "      <td>29.59</td>\n",
              "      <td>80.000</td>\n",
              "      <td>34.85</td>\n",
              "      <td>360</td>\n",
              "      <td>592000.0</td>\n",
              "      <td>5.0</td>\n",
              "      <td>Refinance</td>\n",
              "      <td>Monthly</td>\n",
              "      <td>Single Detached</td>\n",
              "      <td>12</td>\n",
              "      <td>L7G</td>\n",
              "      <td>50-54</td>\n",
              "      <td>Male</td>\n",
              "      <td>147000</td>\n",
              "      <td>8</td>\n",
              "      <td>62</td>\n",
              "      <td>762</td>\n",
              "      <td>FUNDED</td>\n",
              "    </tr>\n",
              "    <tr>\n",
              "      <th>5</th>\n",
              "      <td>CAX_Train_6</td>\n",
              "      <td>6</td>\n",
              "      <td>420000</td>\n",
              "      <td>2179</td>\n",
              "      <td>26.16</td>\n",
              "      <td>69.050</td>\n",
              "      <td>26.16</td>\n",
              "      <td>240</td>\n",
              "      <td>290000.0</td>\n",
              "      <td>5.5</td>\n",
              "      <td>Refinance</td>\n",
              "      <td>Monthly</td>\n",
              "      <td>Single Detached</td>\n",
              "      <td>24</td>\n",
              "      <td>M1M</td>\n",
              "      <td>40-44</td>\n",
              "      <td>Female</td>\n",
              "      <td>106000</td>\n",
              "      <td>2</td>\n",
              "      <td>53</td>\n",
              "      <td>570</td>\n",
              "      <td>FUNDED</td>\n",
              "    </tr>\n",
              "    <tr>\n",
              "      <th>6</th>\n",
              "      <td>CAX_Train_7</td>\n",
              "      <td>7</td>\n",
              "      <td>1600000</td>\n",
              "      <td>5275</td>\n",
              "      <td>32.12</td>\n",
              "      <td>69.230</td>\n",
              "      <td>33.90</td>\n",
              "      <td>360</td>\n",
              "      <td>900000.0</td>\n",
              "      <td>4.0</td>\n",
              "      <td>Refinance</td>\n",
              "      <td>Monthly</td>\n",
              "      <td>Single Detached</td>\n",
              "      <td>12</td>\n",
              "      <td>L7B</td>\n",
              "      <td>55-59</td>\n",
              "      <td>Female</td>\n",
              "      <td>185000</td>\n",
              "      <td>8</td>\n",
              "      <td>56</td>\n",
              "      <td>812</td>\n",
              "      <td>FUNDED</td>\n",
              "    </tr>\n",
              "    <tr>\n",
              "      <th>7</th>\n",
              "      <td>CAX_Train_8</td>\n",
              "      <td>8</td>\n",
              "      <td>1500000</td>\n",
              "      <td>4383</td>\n",
              "      <td>35.68</td>\n",
              "      <td>55.170</td>\n",
              "      <td>37.81</td>\n",
              "      <td>360</td>\n",
              "      <td>644000.0</td>\n",
              "      <td>4.0</td>\n",
              "      <td>Refinance</td>\n",
              "      <td>Monthly</td>\n",
              "      <td>Single Detached</td>\n",
              "      <td>12</td>\n",
              "      <td>L3P</td>\n",
              "      <td>45-49</td>\n",
              "      <td>Male</td>\n",
              "      <td>160000</td>\n",
              "      <td>8</td>\n",
              "      <td>48-49</td>\n",
              "      <td>683</td>\n",
              "      <td>FUNDED</td>\n",
              "    </tr>\n",
              "    <tr>\n",
              "      <th>8</th>\n",
              "      <td>CAX_Train_9</td>\n",
              "      <td>9</td>\n",
              "      <td>790000</td>\n",
              "      <td>3092</td>\n",
              "      <td>35.29</td>\n",
              "      <td>78.481</td>\n",
              "      <td>35.40</td>\n",
              "      <td>360</td>\n",
              "      <td>620000.0</td>\n",
              "      <td>3.5</td>\n",
              "      <td>Refinance</td>\n",
              "      <td>Monthly</td>\n",
              "      <td>Single Detached</td>\n",
              "      <td>60</td>\n",
              "      <td>M4C</td>\n",
              "      <td>45-49</td>\n",
              "      <td>Female</td>\n",
              "      <td>89000</td>\n",
              "      <td>2</td>\n",
              "      <td>61</td>\n",
              "      <td>684</td>\n",
              "      <td>NOT FUNDED</td>\n",
              "    </tr>\n",
              "    <tr>\n",
              "      <th>9</th>\n",
              "      <td>CAX_Train_10</td>\n",
              "      <td>10</td>\n",
              "      <td>650000</td>\n",
              "      <td>1839</td>\n",
              "      <td>38.78</td>\n",
              "      <td>41.850</td>\n",
              "      <td>38.98</td>\n",
              "      <td>360</td>\n",
              "      <td>272000.0</td>\n",
              "      <td>5.5</td>\n",
              "      <td>Purchase</td>\n",
              "      <td>Monthly</td>\n",
              "      <td>Single Detached</td>\n",
              "      <td>12</td>\n",
              "      <td>L4W</td>\n",
              "      <td>40-44</td>\n",
              "      <td>Male</td>\n",
              "      <td>60000</td>\n",
              "      <td>2</td>\n",
              "      <td>56</td>\n",
              "      <td>716</td>\n",
              "      <td>FUNDED</td>\n",
              "    </tr>\n",
              "  </tbody>\n",
              "</table>\n",
              "</div>"
            ],
            "text/plain": [
              "      Unique_ID  MORTGAGE NUMBER  ...  CREDIT SCORE      RESULT\n",
              "0   CAX_Train_1                1  ...           681      FUNDED\n",
              "1   CAX_Train_2                2  ...           710      FUNDED\n",
              "2   CAX_Train_3                3  ...           709      FUNDED\n",
              "3   CAX_Train_4                4  ...           761      FUNDED\n",
              "4   CAX_Train_5                5  ...           762      FUNDED\n",
              "5   CAX_Train_6                6  ...           570      FUNDED\n",
              "6   CAX_Train_7                7  ...           812      FUNDED\n",
              "7   CAX_Train_8                8  ...           683      FUNDED\n",
              "8   CAX_Train_9                9  ...           684  NOT FUNDED\n",
              "9  CAX_Train_10               10  ...           716      FUNDED\n",
              "\n",
              "[10 rows x 22 columns]"
            ]
          },
          "metadata": {
            "tags": []
          },
          "execution_count": 6
        }
      ]
    },
    {
      "cell_type": "markdown",
      "metadata": {
        "id": "H6N4eR9vEXQi",
        "colab_type": "text"
      },
      "source": [
        "Explanatory variables are grouped into categorical variables and numerical variables and for each one let's do a graphical and non-graphical analysis, but before this split let's run some some data preparation activities."
      ]
    },
    {
      "cell_type": "markdown",
      "metadata": {
        "id": "UqhoHvdpPKse",
        "colab_type": "text"
      },
      "source": [
        "# Formatting Features"
      ]
    },
    {
      "cell_type": "markdown",
      "metadata": {
        "id": "bbHzfBaj2J5t",
        "colab_type": "text"
      },
      "source": [
        "If necessary, it's a good practice to format data, after have taken a peek of it. Missing values on numeric features are marked by \"-1\", meanwhile for categorical features they are marked with \"Unknown\"; let's imput these values with \"NA\".  "
      ]
    },
    {
      "cell_type": "code",
      "metadata": {
        "id": "BoC1p8FWLFbF",
        "colab_type": "code",
        "colab": {}
      },
      "source": [
        "# Replaced both '-1' and 'Unknown' values with NA's\n",
        "X_full[X_full== -1] = np.nan\n",
        "X_full[X_full==\"Unknown\"] = np.nan"
      ],
      "execution_count": 0,
      "outputs": []
    },
    {
      "cell_type": "code",
      "metadata": {
        "id": "Cfr3gw7vQeWB",
        "colab_type": "code",
        "colab": {}
      },
      "source": [
        "# Format data into float and object types\n",
        "X_full['PROPERTY VALUE'] = X_full['PROPERTY VALUE'].astype(float)\n",
        "X_full['MORTGAGE PAYMENT'] = X_full['MORTGAGE PAYMENT'].astype(float)\n",
        "X_full['AMORTIZATION'] = X_full['AMORTIZATION'].astype(float)\n",
        "X_full['TERM'] = X_full['TERM'].astype(float)\n",
        "X_full['INCOME'] = X_full['INCOME'].astype(float)\n",
        "X_full['INCOME TYPE'] = X_full['INCOME TYPE'].astype(object)\n",
        "X_full['CREDIT SCORE'] = X_full['CREDIT SCORE'].astype(float)"
      ],
      "execution_count": 0,
      "outputs": []
    },
    {
      "cell_type": "code",
      "metadata": {
        "id": "Sa67IEEHGdPg",
        "colab_type": "code",
        "colab": {}
      },
      "source": [
        "# Rename some features for a practical use\n",
        "X_full = X_full.rename(columns={\"MORTGAGE PURPOSE\":\"MORTGAGE_PURPOSE\",\"PAYMENT FREQUENCY\":\"PAYMENT_FREQUENCY\",\"PROPERTY TYPE\":\"PROPERTY_TYPE\",\"AGE RANGE\":\"AGE_RANGE\",\"PROPERTY VALUE\": \"PROPERTY_VALUE\",\n",
        "                                \"MORTGAGE PAYMENT\": \"MORTGAGE_PAYMENT\", \"MORTGAGE AMOUNT\":\"MORTGAGE_AMOUNT\",\"INCOME TYPE\":\"INCOME_TYPE\",\"CREDIT SCORE\":\"CREDIT_SCORE\"})"
      ],
      "execution_count": 0,
      "outputs": []
    },
    {
      "cell_type": "markdown",
      "metadata": {
        "id": "uqcTsDB4OkMK",
        "colab_type": "text"
      },
      "source": [
        "# Handling Categorical Features\n"
      ]
    },
    {
      "cell_type": "code",
      "metadata": {
        "id": "BMN3HpKV3S10",
        "colab_type": "code",
        "outputId": "cfaa4aa6-42b4-4f23-8781-a134b018f700",
        "colab": {
          "base_uri": "https://localhost:8080/",
          "height": 167
        }
      },
      "source": [
        "# let's have a look at how many labels for categorical features\n",
        "for col in X_full.columns:\n",
        "  if X_full[col].dtype ==\"object\":\n",
        "    print(col, ': ', len(X_full[col].unique()), ' labels')"
      ],
      "execution_count": 10,
      "outputs": [
        {
          "output_type": "stream",
          "text": [
            "Unique_ID :  45642  labels\n",
            "MORTGAGE_PURPOSE :  2  labels\n",
            "PAYMENT_FREQUENCY :  6  labels\n",
            "PROPERTY_TYPE :  8  labels\n",
            "FSA :  1141  labels\n",
            "AGE_RANGE :  11  labels\n",
            "GENDER :  3  labels\n",
            "INCOME_TYPE :  21  labels\n",
            "NAICS CODE :  19  labels\n"
          ],
          "name": "stdout"
        }
      ]
    },
    {
      "cell_type": "code",
      "metadata": {
        "id": "NREoC4kEBP17",
        "colab_type": "code",
        "colab": {}
      },
      "source": [
        "# Select categorical columns with relatively low cardinality (convenient but arbitrary)\n",
        "categorical_cols = [cname for cname in X_full.columns if\n",
        "                    X_full[cname].nunique() <= 15 and \n",
        "                    X_full[cname].dtype == \"object\"]"
      ],
      "execution_count": 0,
      "outputs": []
    },
    {
      "cell_type": "code",
      "metadata": {
        "id": "IfZUySHMrLiS",
        "colab_type": "code",
        "outputId": "431eda46-deaa-4808-d0cb-e777d4868584",
        "colab": {
          "base_uri": "https://localhost:8080/",
          "height": 67
        }
      },
      "source": [
        "# Subset with categorical features\n",
        "cat = X_full[categorical_cols]\n",
        "cat.columns\n"
      ],
      "execution_count": 12,
      "outputs": [
        {
          "output_type": "execute_result",
          "data": {
            "text/plain": [
              "Index(['MORTGAGE_PURPOSE', 'PAYMENT_FREQUENCY', 'PROPERTY_TYPE', 'AGE_RANGE',\n",
              "       'GENDER'],\n",
              "      dtype='object')"
            ]
          },
          "metadata": {
            "tags": []
          },
          "execution_count": 12
        }
      ]
    },
    {
      "cell_type": "code",
      "metadata": {
        "id": "y9notscfuyPD",
        "colab_type": "code",
        "outputId": "fafed373-1850-423e-f87d-73760b3262cb",
        "colab": {
          "base_uri": "https://localhost:8080/",
          "height": 217
        }
      },
      "source": [
        "cat.info()"
      ],
      "execution_count": 13,
      "outputs": [
        {
          "output_type": "stream",
          "text": [
            "<class 'pandas.core.frame.DataFrame'>\n",
            "RangeIndex: 45642 entries, 0 to 45641\n",
            "Data columns (total 5 columns):\n",
            " #   Column             Non-Null Count  Dtype \n",
            "---  ------             --------------  ----- \n",
            " 0   MORTGAGE_PURPOSE   45642 non-null  object\n",
            " 1   PAYMENT_FREQUENCY  45642 non-null  object\n",
            " 2   PROPERTY_TYPE      45642 non-null  object\n",
            " 3   AGE_RANGE          45642 non-null  object\n",
            " 4   GENDER             39224 non-null  object\n",
            "dtypes: object(5)\n",
            "memory usage: 1.7+ MB\n"
          ],
          "name": "stdout"
        }
      ]
    },
    {
      "cell_type": "markdown",
      "metadata": {
        "id": "aHJVRnRmT7-j",
        "colab_type": "text"
      },
      "source": [
        "#####- Feature Engineering on categorical features: one-hot encoding"
      ]
    },
    {
      "cell_type": "markdown",
      "metadata": {
        "id": "CSvpWEpNMQuJ",
        "colab_type": "text"
      },
      "source": [
        "Let's transform categorical features into numerical variables with one-hot encoding methodology to afford a better understanding of variables by machine learning models."
      ]
    },
    {
      "cell_type": "code",
      "metadata": {
        "id": "i7UsSPk3EdMd",
        "colab_type": "code",
        "colab": {}
      },
      "source": [
        "# One-hot encode the data (to shorten the code, I use pandas)\n",
        "HOcat = pd.concat([pd.get_dummies(cat.MORTGAGE_PURPOSE, drop_first=True), pd.get_dummies(cat.PAYMENT_FREQUENCY, drop_first=True), pd.get_dummies(cat.PROPERTY_TYPE, drop_first=True),\n",
        "                  pd.get_dummies(cat.AGE_RANGE, drop_first=True), pd.get_dummies(cat.GENDER, drop_first=True)], axis=1)\n",
        "\n",
        "HOcat = HOcat.astype(int)\n"
      ],
      "execution_count": 0,
      "outputs": []
    },
    {
      "cell_type": "code",
      "metadata": {
        "id": "Nsr5D7xTHNdc",
        "colab_type": "code",
        "outputId": "46cb8ef2-867b-4c5e-cb08-d505015ee868",
        "colab": {
          "base_uri": "https://localhost:8080/",
          "height": 33
        }
      },
      "source": [
        "# Look at the new subset\n",
        "HOcat.shape"
      ],
      "execution_count": 15,
      "outputs": [
        {
          "output_type": "execute_result",
          "data": {
            "text/plain": [
              "(45642, 24)"
            ]
          },
          "metadata": {
            "tags": []
          },
          "execution_count": 15
        }
      ]
    },
    {
      "cell_type": "code",
      "metadata": {
        "id": "7pUe0kjijI5i",
        "colab_type": "code",
        "outputId": "3f6f1abd-715a-4fb4-abeb-943bb66263fc",
        "colab": {
          "base_uri": "https://localhost:8080/",
          "height": 250
        }
      },
      "source": [
        "HOcat.head()"
      ],
      "execution_count": 16,
      "outputs": [
        {
          "output_type": "execute_result",
          "data": {
            "text/html": [
              "<div>\n",
              "<style scoped>\n",
              "    .dataframe tbody tr th:only-of-type {\n",
              "        vertical-align: middle;\n",
              "    }\n",
              "\n",
              "    .dataframe tbody tr th {\n",
              "        vertical-align: top;\n",
              "    }\n",
              "\n",
              "    .dataframe thead th {\n",
              "        text-align: right;\n",
              "    }\n",
              "</style>\n",
              "<table border=\"1\" class=\"dataframe\">\n",
              "  <thead>\n",
              "    <tr style=\"text-align: right;\">\n",
              "      <th></th>\n",
              "      <th>Refinance</th>\n",
              "      <th>Bi-Weekly Accelerated</th>\n",
              "      <th>Monthly</th>\n",
              "      <th>Semi-Monthly</th>\n",
              "      <th>Weekly</th>\n",
              "      <th>Weekly Accelerated</th>\n",
              "      <th>Fourplex</th>\n",
              "      <th>High Rise</th>\n",
              "      <th>Semi-Detached</th>\n",
              "      <th>Single Detached</th>\n",
              "      <th>Townhouse Condominium</th>\n",
              "      <th>Townhouse Freehold</th>\n",
              "      <th>Triplex</th>\n",
              "      <th>30-34</th>\n",
              "      <th>35-39</th>\n",
              "      <th>40-44</th>\n",
              "      <th>45-49</th>\n",
              "      <th>50-54</th>\n",
              "      <th>55-59</th>\n",
              "      <th>60-64</th>\n",
              "      <th>65-69</th>\n",
              "      <th>70 and over</th>\n",
              "      <th>Under 25</th>\n",
              "      <th>Male</th>\n",
              "    </tr>\n",
              "  </thead>\n",
              "  <tbody>\n",
              "    <tr>\n",
              "      <th>0</th>\n",
              "      <td>1</td>\n",
              "      <td>0</td>\n",
              "      <td>1</td>\n",
              "      <td>0</td>\n",
              "      <td>0</td>\n",
              "      <td>0</td>\n",
              "      <td>0</td>\n",
              "      <td>0</td>\n",
              "      <td>0</td>\n",
              "      <td>1</td>\n",
              "      <td>0</td>\n",
              "      <td>0</td>\n",
              "      <td>0</td>\n",
              "      <td>0</td>\n",
              "      <td>0</td>\n",
              "      <td>0</td>\n",
              "      <td>0</td>\n",
              "      <td>0</td>\n",
              "      <td>0</td>\n",
              "      <td>0</td>\n",
              "      <td>0</td>\n",
              "      <td>0</td>\n",
              "      <td>1</td>\n",
              "      <td>1</td>\n",
              "    </tr>\n",
              "    <tr>\n",
              "      <th>1</th>\n",
              "      <td>1</td>\n",
              "      <td>0</td>\n",
              "      <td>1</td>\n",
              "      <td>0</td>\n",
              "      <td>0</td>\n",
              "      <td>0</td>\n",
              "      <td>0</td>\n",
              "      <td>0</td>\n",
              "      <td>0</td>\n",
              "      <td>1</td>\n",
              "      <td>0</td>\n",
              "      <td>0</td>\n",
              "      <td>0</td>\n",
              "      <td>0</td>\n",
              "      <td>0</td>\n",
              "      <td>0</td>\n",
              "      <td>0</td>\n",
              "      <td>0</td>\n",
              "      <td>0</td>\n",
              "      <td>0</td>\n",
              "      <td>0</td>\n",
              "      <td>1</td>\n",
              "      <td>0</td>\n",
              "      <td>1</td>\n",
              "    </tr>\n",
              "    <tr>\n",
              "      <th>2</th>\n",
              "      <td>0</td>\n",
              "      <td>0</td>\n",
              "      <td>1</td>\n",
              "      <td>0</td>\n",
              "      <td>0</td>\n",
              "      <td>0</td>\n",
              "      <td>0</td>\n",
              "      <td>0</td>\n",
              "      <td>0</td>\n",
              "      <td>1</td>\n",
              "      <td>0</td>\n",
              "      <td>0</td>\n",
              "      <td>0</td>\n",
              "      <td>0</td>\n",
              "      <td>1</td>\n",
              "      <td>0</td>\n",
              "      <td>0</td>\n",
              "      <td>0</td>\n",
              "      <td>0</td>\n",
              "      <td>0</td>\n",
              "      <td>0</td>\n",
              "      <td>0</td>\n",
              "      <td>0</td>\n",
              "      <td>0</td>\n",
              "    </tr>\n",
              "    <tr>\n",
              "      <th>3</th>\n",
              "      <td>0</td>\n",
              "      <td>0</td>\n",
              "      <td>1</td>\n",
              "      <td>0</td>\n",
              "      <td>0</td>\n",
              "      <td>0</td>\n",
              "      <td>0</td>\n",
              "      <td>0</td>\n",
              "      <td>0</td>\n",
              "      <td>1</td>\n",
              "      <td>0</td>\n",
              "      <td>0</td>\n",
              "      <td>0</td>\n",
              "      <td>0</td>\n",
              "      <td>0</td>\n",
              "      <td>0</td>\n",
              "      <td>1</td>\n",
              "      <td>0</td>\n",
              "      <td>0</td>\n",
              "      <td>0</td>\n",
              "      <td>0</td>\n",
              "      <td>0</td>\n",
              "      <td>0</td>\n",
              "      <td>1</td>\n",
              "    </tr>\n",
              "    <tr>\n",
              "      <th>4</th>\n",
              "      <td>1</td>\n",
              "      <td>0</td>\n",
              "      <td>1</td>\n",
              "      <td>0</td>\n",
              "      <td>0</td>\n",
              "      <td>0</td>\n",
              "      <td>0</td>\n",
              "      <td>0</td>\n",
              "      <td>0</td>\n",
              "      <td>1</td>\n",
              "      <td>0</td>\n",
              "      <td>0</td>\n",
              "      <td>0</td>\n",
              "      <td>0</td>\n",
              "      <td>0</td>\n",
              "      <td>0</td>\n",
              "      <td>0</td>\n",
              "      <td>1</td>\n",
              "      <td>0</td>\n",
              "      <td>0</td>\n",
              "      <td>0</td>\n",
              "      <td>0</td>\n",
              "      <td>0</td>\n",
              "      <td>1</td>\n",
              "    </tr>\n",
              "  </tbody>\n",
              "</table>\n",
              "</div>"
            ],
            "text/plain": [
              "   Refinance  Bi-Weekly Accelerated  Monthly  ...  70 and over  Under 25  Male\n",
              "0          1                      0        1  ...            0         1     1\n",
              "1          1                      0        1  ...            1         0     1\n",
              "2          0                      0        1  ...            0         0     0\n",
              "3          0                      0        1  ...            0         0     1\n",
              "4          1                      0        1  ...            0         0     1\n",
              "\n",
              "[5 rows x 24 columns]"
            ]
          },
          "metadata": {
            "tags": []
          },
          "execution_count": 16
        }
      ]
    },
    {
      "cell_type": "code",
      "metadata": {
        "id": "c_0FZBcsU8eg",
        "colab_type": "code",
        "colab": {}
      },
      "source": [
        "# Select numerical columns\n",
        "numerical_cols = [cname for cname in X_full.columns if \n",
        "                X_full[cname].dtype in ['float64']]"
      ],
      "execution_count": 0,
      "outputs": []
    },
    {
      "cell_type": "code",
      "metadata": {
        "id": "Fg-ru4uxU88C",
        "colab_type": "code",
        "outputId": "757c6c77-971a-4e35-8fa5-41c370304c4a",
        "colab": {
          "base_uri": "https://localhost:8080/",
          "height": 84
        }
      },
      "source": [
        "# Subset with numerical features\n",
        "num = X_full[numerical_cols]\n",
        "num.columns"
      ],
      "execution_count": 18,
      "outputs": [
        {
          "output_type": "execute_result",
          "data": {
            "text/plain": [
              "Index(['PROPERTY_VALUE', 'MORTGAGE_PAYMENT', 'GDS', 'LTV', 'TDS',\n",
              "       'AMORTIZATION', 'MORTGAGE_AMOUNT', 'RATE', 'TERM', 'INCOME',\n",
              "       'CREDIT_SCORE'],\n",
              "      dtype='object')"
            ]
          },
          "metadata": {
            "tags": []
          },
          "execution_count": 18
        }
      ]
    },
    {
      "cell_type": "code",
      "metadata": {
        "id": "HPeULBW3U9Fo",
        "colab_type": "code",
        "outputId": "2f977f0d-5ac2-42e7-e7e6-ad680092f03c",
        "colab": {
          "base_uri": "https://localhost:8080/",
          "height": 318
        }
      },
      "source": [
        "num.info()"
      ],
      "execution_count": 19,
      "outputs": [
        {
          "output_type": "stream",
          "text": [
            "<class 'pandas.core.frame.DataFrame'>\n",
            "RangeIndex: 45642 entries, 0 to 45641\n",
            "Data columns (total 11 columns):\n",
            " #   Column            Non-Null Count  Dtype  \n",
            "---  ------            --------------  -----  \n",
            " 0   PROPERTY_VALUE    45642 non-null  float64\n",
            " 1   MORTGAGE_PAYMENT  45642 non-null  float64\n",
            " 2   GDS               45642 non-null  float64\n",
            " 3   LTV               45642 non-null  float64\n",
            " 4   TDS               45642 non-null  float64\n",
            " 5   AMORTIZATION      45642 non-null  float64\n",
            " 6   MORTGAGE_AMOUNT   45642 non-null  float64\n",
            " 7   RATE              45642 non-null  float64\n",
            " 8   TERM              45642 non-null  float64\n",
            " 9   INCOME            45642 non-null  float64\n",
            " 10  CREDIT_SCORE      45642 non-null  float64\n",
            "dtypes: float64(11)\n",
            "memory usage: 3.8 MB\n"
          ],
          "name": "stdout"
        }
      ]
    },
    {
      "cell_type": "code",
      "metadata": {
        "id": "eSRSSCLGVEh5",
        "colab_type": "code",
        "colab": {}
      },
      "source": [
        "# Grasp all\n",
        "X_all = pd.concat([HOcat, num], axis=1, join='inner')"
      ],
      "execution_count": 0,
      "outputs": []
    },
    {
      "cell_type": "markdown",
      "metadata": {
        "id": "qe16GLXqopQl",
        "colab_type": "text"
      },
      "source": [
        "# Modeling Part"
      ]
    },
    {
      "cell_type": "markdown",
      "metadata": {
        "id": "z5VfzCYGcWgq",
        "colab_type": "text"
      },
      "source": [
        "The traditional data exploration is extended looking at the behaviour of several baseline models and which features can be relevant for the prediction. This exploration is splitted in two parts: without handling the imbalanced target variable (scaled baseline models) and handling it (scaled baseline models).  "
      ]
    },
    {
      "cell_type": "markdown",
      "metadata": {
        "id": "6S3Jt8sxLF2b",
        "colab_type": "text"
      },
      "source": [
        "- Evaluation Metric and Confusion Matrix"
      ]
    },
    {
      "cell_type": "markdown",
      "metadata": {
        "id": "9zebre5UP0u7",
        "colab_type": "text"
      },
      "source": [
        "The confusion matrix is a summary table representation of prediction results for a classification problem. The number of correct and incorrect predictions are summarized with count values and broken down by each class. The diagonal elements represent the number of points for which the predicted label is equal to the true label, while off-diagonal elements are those that are mislabeled by the classifier. Good predictions coming from the higher diagonal values of the confusion matrix. For this imbalanced classification task is not used Accuracy metric but more appropriately the F1 score metric that combines both precision and recall, it's an harmonic mean between them, it's indicates how precise is the classifier (precision) and how robust it is (recall). F1 score equal to 0.00 indicates a poor model, instead F1 score equal 1.00 indicates a perfect model.\n"
      ]
    },
    {
      "cell_type": "markdown",
      "metadata": {
        "id": "bxmsWT7XyYgA",
        "colab_type": "text"
      },
      "source": [
        "- Pre-processing"
      ]
    },
    {
      "cell_type": "markdown",
      "metadata": {
        "id": "n_Hw64zwxu_6",
        "colab_type": "text"
      },
      "source": [
        "To analyze the performance of a model is a good manner to split the data set into the training set and the test set. It's been decided to split it into three parts: training set, validation set and test set for a better understanding of models. The training set is a sample of data used to fit the model, meanwhile the validation set is a sample of data used to provide an unbiased evaluation of the model that fit on the training set and to tune the model hyperparameters (not in this explorative phase). The test set is a sample of data used to provide an unbiased evaluation of the model applied on data never seen before."
      ]
    },
    {
      "cell_type": "markdown",
      "metadata": {
        "id": "_Vlsxgkc45IH",
        "colab_type": "text"
      },
      "source": [
        "- Standardization"
      ]
    },
    {
      "cell_type": "markdown",
      "metadata": {
        "id": "geBXV2Ah45YO",
        "colab_type": "text"
      },
      "source": [
        "Since values of the features are not uniform and may be neagatively impact the skill of some models, the same models are evaluated with a standardized copy of the data set. It means, data are transformed such that each feature has a mean value of 0 and a standard deviation of 1. "
      ]
    },
    {
      "cell_type": "markdown",
      "metadata": {
        "id": "dixm6U6OygkP",
        "colab_type": "text"
      },
      "source": [
        "- Models"
      ]
    },
    {
      "cell_type": "markdown",
      "metadata": {
        "id": "9fHQdwCHxrIL",
        "colab_type": "text"
      },
      "source": [
        "The analysis is based on six baseline models: Logistic Regression as the easiest model and as well as benchmark, then other five models: Bagging, Random Forest, AdaBoost, Gradient Boosting Machine and Neural Networks (MLP)."
      ]
    },
    {
      "cell_type": "markdown",
      "metadata": {
        "id": "EQWGVT8QwwI8",
        "colab_type": "text"
      },
      "source": [
        "#  Modeling Part I: without handling imbalanced data set"
      ]
    },
    {
      "cell_type": "markdown",
      "metadata": {
        "id": "e3g7VOS0w2lD",
        "colab_type": "text"
      },
      "source": [
        "#####- Pre-Processing: split data set"
      ]
    },
    {
      "cell_type": "code",
      "metadata": {
        "id": "csVOGV7Qw5VG",
        "colab_type": "code",
        "colab": {}
      },
      "source": [
        "# Break off validation and test set from training data\n",
        "X_train, X_test, y_train, y_test = train_test_split(X_all, y, train_size=0.8, test_size=0.2,\n",
        "                                                                random_state=0)\n",
        "X_train, X_valid, y_train, y_valid = train_test_split(X_train, y_train, train_size=0.8, test_size=0.2,\n",
        "                                                                random_state=0)"
      ],
      "execution_count": 0,
      "outputs": []
    },
    {
      "cell_type": "markdown",
      "metadata": {
        "id": "Tfvk77arw9dH",
        "colab_type": "text"
      },
      "source": [
        "#####- Pre-Processing: standardization"
      ]
    },
    {
      "cell_type": "code",
      "metadata": {
        "id": "rLARBi9ow-OD",
        "colab_type": "code",
        "colab": {}
      },
      "source": [
        "# Standardization of data\n",
        "sc = StandardScaler()\n",
        "X_train_sc = sc.fit_transform(X_train)\n",
        "X_valid_sc = sc.fit_transform(X_valid)\n",
        "X_test_sc = sc.transform(X_test)"
      ],
      "execution_count": 0,
      "outputs": []
    },
    {
      "cell_type": "markdown",
      "metadata": {
        "id": "mwCD7aCLxEc6",
        "colab_type": "text"
      },
      "source": [
        "#####- Baseline Models"
      ]
    },
    {
      "cell_type": "code",
      "metadata": {
        "id": "6d8vIEE4xFMF",
        "colab_type": "code",
        "outputId": "292e64cb-8926-44f8-d171-388e63c9502c",
        "colab": {
          "base_uri": "https://localhost:8080/",
          "height": 1000
        }
      },
      "source": [
        "# Spot Check Algorithms\n",
        "models = []\n",
        "models.append(('LogisticRegression', LogisticRegression(random_state=0)))\n",
        "models.append(('Bagging', BaggingClassifier(random_state=0)))\n",
        "models.append(('RandomForest', RandomForestClassifier(random_state=0)))\n",
        "models.append(('AdaBoost', AdaBoostClassifier(random_state=0)))\n",
        "models.append(('GBM', GradientBoostingClassifier(random_state=0)))\n",
        "models.append(('NN', MLPClassifier(random_state=0)))\n",
        "results_tr = []\n",
        "results_v = []\n",
        "results_t = []\n",
        "names = []\n",
        "score = []\n",
        "skf = StratifiedKFold(n_splits=5)\n",
        "for (name, model) in models:\n",
        "    param_grid = {}\n",
        "    my_model = GridSearchCV(model,param_grid,cv=skf)\n",
        "    my_model.fit(X_train_sc, y_train)\n",
        "    predictions_tr = my_model.predict(X_train_sc) \n",
        "    predictions_v = my_model.predict(X_valid_sc)\n",
        "    predictions_t = my_model.predict(X_test_sc)\n",
        "    f1_train = f1_score(y_train, predictions_tr, average='macro') \n",
        "    f1_valid = f1_score(y_valid, predictions_v,average='macro') \n",
        "    f1_test = f1_score(y_test, predictions_t,average='macro') \n",
        "    results_tr.append(f1_train)\n",
        "    results_v.append(f1_valid)\n",
        "    results_t.append(f1_test)\n",
        "    \n",
        "    names.append(name)\n",
        "    f_dict = {\n",
        "        'model': name,\n",
        "        'f1_train': f1_train,\n",
        "        'f1_valid': f1_valid,\n",
        "        'f1_test': f1_test\n",
        "    }\n",
        "    score.append(f_dict)\n",
        "    # Computing Confusion matrix for the above algorithms\n",
        "    sns.set( rc = {'figure.figsize': (5, 5)})\n",
        "    plt.figure()\n",
        "    plot_confusion_matrix(my_model,X_test_sc, y_test,values_format= '.2f', cmap='Blues')\n",
        "    plt.title(name)\n",
        "    plt.show()   \n",
        "score = pd.DataFrame(score, columns = ['model','f1_train', 'f1_valid', 'f1_test'])"
      ],
      "execution_count": 23,
      "outputs": [
        {
          "output_type": "display_data",
          "data": {
            "text/plain": [
              "<Figure size 360x360 with 0 Axes>"
            ]
          },
          "metadata": {
            "tags": []
          }
        },
        {
          "output_type": "display_data",
          "data": {
            "image/png": "[encoded data removed]",
            "text/plain": [
              "<Figure size 360x360 with 2 Axes>"
            ]
          },
          "metadata": {
            "tags": []
          }
        },
        {
          "output_type": "display_data",
          "data": {
            "text/plain": [
              "<Figure size 360x360 with 0 Axes>"
            ]
          },
          "metadata": {
            "tags": []
          }
        },
        {
          "output_type": "display_data",
          "data": {
            "image/png": "[encoded data removed]",
            "text/plain": [
              "<Figure size 360x360 with 2 Axes>"
            ]
          },
          "metadata": {
            "tags": []
          }
        },
        {
          "output_type": "display_data",
          "data": {
            "text/plain": [
              "<Figure size 360x360 with 0 Axes>"
            ]
          },
          "metadata": {
            "tags": []
          }
        },
        {
          "output_type": "display_data",
          "data": {
            "image/png": "[encoded data removed]",
            "text/plain": [
              "<Figure size 360x360 with 2 Axes>"
            ]
          },
          "metadata": {
            "tags": []
          }
        },
        {
          "output_type": "display_data",
          "data": {
            "text/plain": [
              "<Figure size 360x360 with 0 Axes>"
            ]
          },
          "metadata": {
            "tags": []
          }
        },
        {
          "output_type": "display_data",
          "data": {
            "image/png": "[encoded data removed]",
            "text/plain": [
              "<Figure size 360x360 with 2 Axes>"
            ]
          },
          "metadata": {
            "tags": []
          }
        },
        {
          "output_type": "display_data",
          "data": {
            "text/plain": [
              "<Figure size 360x360 with 0 Axes>"
            ]
          },
          "metadata": {
            "tags": []
          }
        },
        {
          "output_type": "display_data",
          "data": {
            "image/png": "[encoded data removed]",
            "text/plain": [
              "<Figure size 360x360 with 2 Axes>"
            ]
          },
          "metadata": {
            "tags": []
          }
        },
        {
          "output_type": "display_data",
          "data": {
            "text/plain": [
              "<Figure size 360x360 with 0 Axes>"
            ]
          },
          "metadata": {
            "tags": []
          }
        },
        {
          "output_type": "display_data",
          "data": {
            "image/png": "[encoded data removed]",
            "text/plain": [
              "<Figure size 360x360 with 2 Axes>"
            ]
          },
          "metadata": {
            "tags": []
          }
        }
      ]
    },
    {
      "cell_type": "code",
      "metadata": {
        "id": "oyNrSed6x_68",
        "colab_type": "code",
        "outputId": "32dea570-96aa-4b04-c202-8f9254ae078e",
        "colab": {
          "base_uri": "https://localhost:8080/",
          "height": 134
        }
      },
      "source": [
        "# Look at the F1 score for each model and for each data set\n",
        "print(score)"
      ],
      "execution_count": 24,
      "outputs": [
        {
          "output_type": "stream",
          "text": [
            "                model  f1_train  f1_valid   f1_test\n",
            "0  LogisticRegression  0.456333  0.459235  0.454607\n",
            "1             Bagging  0.965135  0.410137  0.408396\n",
            "2        RandomForest  0.999949  0.411144  0.411965\n",
            "3            AdaBoost  0.490682  0.429162  0.416413\n",
            "4                 GBM  0.497640  0.353001  0.345509\n",
            "5                  NN  0.557852  0.506043  0.494503\n"
          ],
          "name": "stdout"
        }
      ]
    },
    {
      "cell_type": "code",
      "metadata": {
        "id": "BBOAoq8kyDJe",
        "colab_type": "code",
        "outputId": "566fe6e4-e925-4c9a-bc73-84d9e7b8ed85",
        "colab": {
          "base_uri": "https://localhost:8080/",
          "height": 465
        }
      },
      "source": [
        "# Plot results for a graphical comparison\n",
        "print(\"Spot Check Algorithms\")\n",
        "sns.set( rc = {'figure.figsize': (15, 5)})\n",
        "plt.figure()\n",
        "plt.subplot(1,3,1)  \n",
        "sns.stripplot(x=\"model\", y=\"f1_train\",data=score,size=15)\n",
        "plt.xticks(rotation=90)\n",
        "plt.title('Train results')\n",
        "axes = plt.gca()\n",
        "axes.set_ylim([0,1.1])\n",
        "plt.subplot(1,3,2)\n",
        "sns.stripplot(x=\"model\", y=\"f1_valid\",data=score,size=15)\n",
        "plt.xticks(rotation=90)\n",
        "plt.title('Validation results')\n",
        "axes = plt.gca()\n",
        "axes.set_ylim([0,1.1])\n",
        "plt.subplot(1,3,3)\n",
        "sns.stripplot(x=\"model\", y=\"f1_test\",data=score,size=15)\n",
        "plt.xticks(rotation=90)\n",
        "plt.title('Test results')\n",
        "axes = plt.gca()\n",
        "axes.set_ylim([0,1.1])\n",
        "plt.show()"
      ],
      "execution_count": 25,
      "outputs": [
        {
          "output_type": "stream",
          "text": [
            "Spot Check Algorithms\n"
          ],
          "name": "stdout"
        },
        {
          "output_type": "display_data",
          "data": {
            "image/png": "[encoded data removed]",
            "text/plain": [
              "<Figure size 1080x360 with 3 Axes>"
            ]
          },
          "metadata": {
            "tags": []
          }
        }
      ]
    }
  ]
}